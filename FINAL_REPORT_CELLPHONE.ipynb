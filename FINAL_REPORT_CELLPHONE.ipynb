{
 "cells": [
  {
   "cell_type": "markdown",
   "id": "c913b13e",
   "metadata": {},
   "source": [
    "## DATA SCIENCE PROJECT ON CELLPHONE PRICE PREDICTION"
   ]
  },
  {
   "cell_type": "markdown",
   "id": "4b09f4b8",
   "metadata": {},
   "source": [
    " ### Importing python libraries"
   ]
  },
  {
   "cell_type": "code",
   "execution_count": 1,
   "id": "2730ea70",
   "metadata": {},
   "outputs": [],
   "source": [
    "import pandas as pd\n",
    "import numpy as np\n",
    "import matplotlib.pyplot as plt\n",
    "import seaborn as sns\n",
    "%matplotlib inline"
   ]
  },
  {
   "cell_type": "markdown",
   "id": "b51f0d2e",
   "metadata": {},
   "source": [
    "### Importing data set"
   ]
  },
  {
   "cell_type": "code",
   "execution_count": 2,
   "id": "baeafedc",
   "metadata": {},
   "outputs": [
    {
     "data": {
      "text/html": [
       "<div>\n",
       "<style scoped>\n",
       "    .dataframe tbody tr th:only-of-type {\n",
       "        vertical-align: middle;\n",
       "    }\n",
       "\n",
       "    .dataframe tbody tr th {\n",
       "        vertical-align: top;\n",
       "    }\n",
       "\n",
       "    .dataframe thead th {\n",
       "        text-align: right;\n",
       "    }\n",
       "</style>\n",
       "<table border=\"1\" class=\"dataframe\">\n",
       "  <thead>\n",
       "    <tr style=\"text-align: right;\">\n",
       "      <th></th>\n",
       "      <th>battery_power</th>\n",
       "      <th>blue</th>\n",
       "      <th>clock_speed</th>\n",
       "      <th>dual_sim</th>\n",
       "      <th>fc</th>\n",
       "      <th>four_g</th>\n",
       "      <th>int_memory</th>\n",
       "      <th>m_dep</th>\n",
       "      <th>mobile_wt</th>\n",
       "      <th>n_cores</th>\n",
       "      <th>...</th>\n",
       "      <th>px_height</th>\n",
       "      <th>px_width</th>\n",
       "      <th>ram</th>\n",
       "      <th>sc_h</th>\n",
       "      <th>sc_w</th>\n",
       "      <th>talk_time</th>\n",
       "      <th>three_g</th>\n",
       "      <th>touch_screen</th>\n",
       "      <th>wifi</th>\n",
       "      <th>price_range</th>\n",
       "    </tr>\n",
       "  </thead>\n",
       "  <tbody>\n",
       "    <tr>\n",
       "      <th>0</th>\n",
       "      <td>842</td>\n",
       "      <td>0</td>\n",
       "      <td>2.2</td>\n",
       "      <td>0</td>\n",
       "      <td>1</td>\n",
       "      <td>0</td>\n",
       "      <td>7</td>\n",
       "      <td>0.6</td>\n",
       "      <td>188</td>\n",
       "      <td>2</td>\n",
       "      <td>...</td>\n",
       "      <td>20</td>\n",
       "      <td>756</td>\n",
       "      <td>2549</td>\n",
       "      <td>9</td>\n",
       "      <td>7</td>\n",
       "      <td>19</td>\n",
       "      <td>0</td>\n",
       "      <td>0</td>\n",
       "      <td>1</td>\n",
       "      <td>1</td>\n",
       "    </tr>\n",
       "    <tr>\n",
       "      <th>1</th>\n",
       "      <td>1021</td>\n",
       "      <td>1</td>\n",
       "      <td>0.5</td>\n",
       "      <td>1</td>\n",
       "      <td>0</td>\n",
       "      <td>1</td>\n",
       "      <td>53</td>\n",
       "      <td>0.7</td>\n",
       "      <td>136</td>\n",
       "      <td>3</td>\n",
       "      <td>...</td>\n",
       "      <td>905</td>\n",
       "      <td>1988</td>\n",
       "      <td>2631</td>\n",
       "      <td>17</td>\n",
       "      <td>3</td>\n",
       "      <td>7</td>\n",
       "      <td>1</td>\n",
       "      <td>1</td>\n",
       "      <td>0</td>\n",
       "      <td>2</td>\n",
       "    </tr>\n",
       "    <tr>\n",
       "      <th>2</th>\n",
       "      <td>563</td>\n",
       "      <td>1</td>\n",
       "      <td>0.5</td>\n",
       "      <td>1</td>\n",
       "      <td>2</td>\n",
       "      <td>1</td>\n",
       "      <td>41</td>\n",
       "      <td>0.9</td>\n",
       "      <td>145</td>\n",
       "      <td>5</td>\n",
       "      <td>...</td>\n",
       "      <td>1263</td>\n",
       "      <td>1716</td>\n",
       "      <td>2603</td>\n",
       "      <td>11</td>\n",
       "      <td>2</td>\n",
       "      <td>9</td>\n",
       "      <td>1</td>\n",
       "      <td>1</td>\n",
       "      <td>0</td>\n",
       "      <td>2</td>\n",
       "    </tr>\n",
       "    <tr>\n",
       "      <th>3</th>\n",
       "      <td>615</td>\n",
       "      <td>1</td>\n",
       "      <td>2.5</td>\n",
       "      <td>0</td>\n",
       "      <td>0</td>\n",
       "      <td>0</td>\n",
       "      <td>10</td>\n",
       "      <td>0.8</td>\n",
       "      <td>131</td>\n",
       "      <td>6</td>\n",
       "      <td>...</td>\n",
       "      <td>1216</td>\n",
       "      <td>1786</td>\n",
       "      <td>2769</td>\n",
       "      <td>16</td>\n",
       "      <td>8</td>\n",
       "      <td>11</td>\n",
       "      <td>1</td>\n",
       "      <td>0</td>\n",
       "      <td>0</td>\n",
       "      <td>2</td>\n",
       "    </tr>\n",
       "    <tr>\n",
       "      <th>4</th>\n",
       "      <td>1821</td>\n",
       "      <td>1</td>\n",
       "      <td>1.2</td>\n",
       "      <td>0</td>\n",
       "      <td>13</td>\n",
       "      <td>1</td>\n",
       "      <td>44</td>\n",
       "      <td>0.6</td>\n",
       "      <td>141</td>\n",
       "      <td>2</td>\n",
       "      <td>...</td>\n",
       "      <td>1208</td>\n",
       "      <td>1212</td>\n",
       "      <td>1411</td>\n",
       "      <td>8</td>\n",
       "      <td>2</td>\n",
       "      <td>15</td>\n",
       "      <td>1</td>\n",
       "      <td>1</td>\n",
       "      <td>0</td>\n",
       "      <td>1</td>\n",
       "    </tr>\n",
       "    <tr>\n",
       "      <th>...</th>\n",
       "      <td>...</td>\n",
       "      <td>...</td>\n",
       "      <td>...</td>\n",
       "      <td>...</td>\n",
       "      <td>...</td>\n",
       "      <td>...</td>\n",
       "      <td>...</td>\n",
       "      <td>...</td>\n",
       "      <td>...</td>\n",
       "      <td>...</td>\n",
       "      <td>...</td>\n",
       "      <td>...</td>\n",
       "      <td>...</td>\n",
       "      <td>...</td>\n",
       "      <td>...</td>\n",
       "      <td>...</td>\n",
       "      <td>...</td>\n",
       "      <td>...</td>\n",
       "      <td>...</td>\n",
       "      <td>...</td>\n",
       "      <td>...</td>\n",
       "    </tr>\n",
       "    <tr>\n",
       "      <th>1995</th>\n",
       "      <td>794</td>\n",
       "      <td>1</td>\n",
       "      <td>0.5</td>\n",
       "      <td>1</td>\n",
       "      <td>0</td>\n",
       "      <td>1</td>\n",
       "      <td>2</td>\n",
       "      <td>0.8</td>\n",
       "      <td>106</td>\n",
       "      <td>6</td>\n",
       "      <td>...</td>\n",
       "      <td>1222</td>\n",
       "      <td>1890</td>\n",
       "      <td>668</td>\n",
       "      <td>13</td>\n",
       "      <td>4</td>\n",
       "      <td>19</td>\n",
       "      <td>1</td>\n",
       "      <td>1</td>\n",
       "      <td>0</td>\n",
       "      <td>0</td>\n",
       "    </tr>\n",
       "    <tr>\n",
       "      <th>1996</th>\n",
       "      <td>1965</td>\n",
       "      <td>1</td>\n",
       "      <td>2.6</td>\n",
       "      <td>1</td>\n",
       "      <td>0</td>\n",
       "      <td>0</td>\n",
       "      <td>39</td>\n",
       "      <td>0.2</td>\n",
       "      <td>187</td>\n",
       "      <td>4</td>\n",
       "      <td>...</td>\n",
       "      <td>915</td>\n",
       "      <td>1965</td>\n",
       "      <td>2032</td>\n",
       "      <td>11</td>\n",
       "      <td>10</td>\n",
       "      <td>16</td>\n",
       "      <td>1</td>\n",
       "      <td>1</td>\n",
       "      <td>1</td>\n",
       "      <td>2</td>\n",
       "    </tr>\n",
       "    <tr>\n",
       "      <th>1997</th>\n",
       "      <td>1911</td>\n",
       "      <td>0</td>\n",
       "      <td>0.9</td>\n",
       "      <td>1</td>\n",
       "      <td>1</td>\n",
       "      <td>1</td>\n",
       "      <td>36</td>\n",
       "      <td>0.7</td>\n",
       "      <td>108</td>\n",
       "      <td>8</td>\n",
       "      <td>...</td>\n",
       "      <td>868</td>\n",
       "      <td>1632</td>\n",
       "      <td>3057</td>\n",
       "      <td>9</td>\n",
       "      <td>1</td>\n",
       "      <td>5</td>\n",
       "      <td>1</td>\n",
       "      <td>1</td>\n",
       "      <td>0</td>\n",
       "      <td>3</td>\n",
       "    </tr>\n",
       "    <tr>\n",
       "      <th>1998</th>\n",
       "      <td>1512</td>\n",
       "      <td>0</td>\n",
       "      <td>0.9</td>\n",
       "      <td>0</td>\n",
       "      <td>4</td>\n",
       "      <td>1</td>\n",
       "      <td>46</td>\n",
       "      <td>0.1</td>\n",
       "      <td>145</td>\n",
       "      <td>5</td>\n",
       "      <td>...</td>\n",
       "      <td>336</td>\n",
       "      <td>670</td>\n",
       "      <td>869</td>\n",
       "      <td>18</td>\n",
       "      <td>10</td>\n",
       "      <td>19</td>\n",
       "      <td>1</td>\n",
       "      <td>1</td>\n",
       "      <td>1</td>\n",
       "      <td>0</td>\n",
       "    </tr>\n",
       "    <tr>\n",
       "      <th>1999</th>\n",
       "      <td>510</td>\n",
       "      <td>1</td>\n",
       "      <td>2.0</td>\n",
       "      <td>1</td>\n",
       "      <td>5</td>\n",
       "      <td>1</td>\n",
       "      <td>45</td>\n",
       "      <td>0.9</td>\n",
       "      <td>168</td>\n",
       "      <td>6</td>\n",
       "      <td>...</td>\n",
       "      <td>483</td>\n",
       "      <td>754</td>\n",
       "      <td>3919</td>\n",
       "      <td>19</td>\n",
       "      <td>4</td>\n",
       "      <td>2</td>\n",
       "      <td>1</td>\n",
       "      <td>1</td>\n",
       "      <td>1</td>\n",
       "      <td>3</td>\n",
       "    </tr>\n",
       "  </tbody>\n",
       "</table>\n",
       "<p>2000 rows × 21 columns</p>\n",
       "</div>"
      ],
      "text/plain": [
       "      battery_power  blue  clock_speed  dual_sim  fc  four_g  int_memory  \\\n",
       "0               842     0          2.2         0   1       0           7   \n",
       "1              1021     1          0.5         1   0       1          53   \n",
       "2               563     1          0.5         1   2       1          41   \n",
       "3               615     1          2.5         0   0       0          10   \n",
       "4              1821     1          1.2         0  13       1          44   \n",
       "...             ...   ...          ...       ...  ..     ...         ...   \n",
       "1995            794     1          0.5         1   0       1           2   \n",
       "1996           1965     1          2.6         1   0       0          39   \n",
       "1997           1911     0          0.9         1   1       1          36   \n",
       "1998           1512     0          0.9         0   4       1          46   \n",
       "1999            510     1          2.0         1   5       1          45   \n",
       "\n",
       "      m_dep  mobile_wt  n_cores  ...  px_height  px_width   ram  sc_h  sc_w  \\\n",
       "0       0.6        188        2  ...         20       756  2549     9     7   \n",
       "1       0.7        136        3  ...        905      1988  2631    17     3   \n",
       "2       0.9        145        5  ...       1263      1716  2603    11     2   \n",
       "3       0.8        131        6  ...       1216      1786  2769    16     8   \n",
       "4       0.6        141        2  ...       1208      1212  1411     8     2   \n",
       "...     ...        ...      ...  ...        ...       ...   ...   ...   ...   \n",
       "1995    0.8        106        6  ...       1222      1890   668    13     4   \n",
       "1996    0.2        187        4  ...        915      1965  2032    11    10   \n",
       "1997    0.7        108        8  ...        868      1632  3057     9     1   \n",
       "1998    0.1        145        5  ...        336       670   869    18    10   \n",
       "1999    0.9        168        6  ...        483       754  3919    19     4   \n",
       "\n",
       "      talk_time  three_g  touch_screen  wifi  price_range  \n",
       "0            19        0             0     1            1  \n",
       "1             7        1             1     0            2  \n",
       "2             9        1             1     0            2  \n",
       "3            11        1             0     0            2  \n",
       "4            15        1             1     0            1  \n",
       "...         ...      ...           ...   ...          ...  \n",
       "1995         19        1             1     0            0  \n",
       "1996         16        1             1     1            2  \n",
       "1997          5        1             1     0            3  \n",
       "1998         19        1             1     1            0  \n",
       "1999          2        1             1     1            3  \n",
       "\n",
       "[2000 rows x 21 columns]"
      ]
     },
     "execution_count": 2,
     "metadata": {},
     "output_type": "execute_result"
    }
   ],
   "source": [
    "df=pd.read_csv(\"cell_phone.csv\")\n",
    "df"
   ]
  },
  {
   "cell_type": "markdown",
   "id": "614aeb5b",
   "metadata": {},
   "source": [
    " ## Introduction of project \n",
    " ### Target column = price range \n",
    " ### PRICE_RANGE: Usually w.r.t pricing mobiles are broadly divided into: \n",
    " ####   hi-end(devices with high quality sensors and good build quality), \n",
    " ####   midrange(devices with fairly good sensors and decent build quality), \n",
    " ####   budget phones(devices with low quality sensors and low build quality). \n",
    " \n",
    " ### It will uncover the factor that leads to the cellphone price range.\n",
    " ### In this project we are going to analyze how other features are affecting the cell phone price range.\n",
    "\n"
   ]
  },
  {
   "cell_type": "markdown",
   "id": "a01c92e6",
   "metadata": {},
   "source": [
    "## Domain Analysis "
   ]
  },
  {
   "cell_type": "markdown",
   "id": "b16a8ab5",
   "metadata": {},
   "source": [
    "1. BATTERY POWER: It's generally measured in milliamph hours(mah). the more the value the longer we can use it beofre connecting it to the adapter\n",
    "2. BLUETOOTH: It's a mode of file transfer and a driver used to connect peripherals like headset or pointer device \n",
    "3. CLOCK SPEED: It's the measure of fastness of the processor used in the mobie. the more the value the faster the mobile is.\n",
    "4. DUAL SIM: It's a feature where you can use, access and modify 2 sim cards in the same device.\n",
    "5. FRONT CAMERA: It's the secondary camera of the mobile present on its face. Used to capture pictures and videos and size is measured in megapixels.  \n",
    "6. FOUR_G: It's a  fourth generation of broadband cellular network technology. The data transfer speed in this generation up to 100 Mbit/s.\n",
    "7. INTERNAL MEMORY: It's a feature where all the filesin the mobile are stored, usually measured in gigabytes. The higher the value, the larger number of files can be stored.\n",
    "8. MOBILE DEPTH:In  simple terms its the thickness of the decvice. It depends on lot of factors like the  type of battery used, the type of motherboard, the type of display and the type of sensors used in the device, usually meaured in cm.\n",
    "9. MOBILE WEIGHT: It tells us the overall weight of the device, usually measured in grams. It also depends on the above mentioned factors.\n",
    "10. N_CORES: Stands for number of cores. In simple terms number of cores represent the amount of parallel processing in the processor.Higher the vale more efficient and fast is the device.\n",
    "11. PC: Stands for Primary Camera. It is the main camera of the device used to caputre pictures and videos. Size is measured in MegaPixels. The higher the value the more is the quality of pictures captured by it. Some mobiles have multiple cameras in the rear just to get a high quality photo and video(usually present in mid range and hi end mobiles).\n",
    "12. PX_HEIGHT: Stands for pixel height. This feature refers to the display of the mobile. It tells us the number of pixels present along the y-axis(vertical side).\n",
    "13. PX_WIDTH: Stands for pixel width. This feature refers to the display of the mobile. It tells us the number of pixels present along the x-axis(horizantal side).\n",
    "14. RAM: Stands for Random Access Memory. Its a memory place where the mobile temporarly store the data which it is about to process. the more the value the more faster the device is.\n",
    "15. SC_H: Stands for Screen Height, refers to the dimension of the screen along y-axis(vertical side).\n",
    "16. SC_W: Stands for Screen width, referes to the dimensions of the screen along x-axis(horizantal side).\n",
    "17. TALK_TIME: Refers to the longest time that mobile can use the battery power before connecting it to the adapter to recharge the battery. Usually measred in hours. It directly depends on battery power.\n",
    "18. THREE_G: It's a third generation of broadband cellular network technology, preceeder of 4G descirbed above. The data transfer speed in this generation is limited up to 14 Mbit/s.\n",
    "19. TOUCH_SCREEN: Its a feature of the screen. This is used to interact with the mobile. Unlike the conventional devices which have buttons(which acts like switches used to send specific signals to the processor to do specific functions), with this feature we will disrupt static electric field on the screen at a specific location to perform specific function.\n",
    "20. WIFI: Its a feature where the device can be connected to internet by sending and receving wireless signals to router which is connected to broadband.\n",
    "21. PRICE_RANGE: Usually w.r.t pricing mobiles are broadly divided into hi-end(devices with high quality sensors and good build quality), midrange(devices with fairly good sensors and decent build quality), budget phones(devices with low quality sensors and low build quality). "
   ]
  },
  {
   "cell_type": "markdown",
   "id": "0c642915",
   "metadata": {},
   "source": [
    "##  Basic Checks "
   ]
  },
  {
   "cell_type": "code",
   "execution_count": 3,
   "id": "b8474c64",
   "metadata": {},
   "outputs": [
    {
     "data": {
      "text/html": [
       "<div>\n",
       "<style scoped>\n",
       "    .dataframe tbody tr th:only-of-type {\n",
       "        vertical-align: middle;\n",
       "    }\n",
       "\n",
       "    .dataframe tbody tr th {\n",
       "        vertical-align: top;\n",
       "    }\n",
       "\n",
       "    .dataframe thead th {\n",
       "        text-align: right;\n",
       "    }\n",
       "</style>\n",
       "<table border=\"1\" class=\"dataframe\">\n",
       "  <thead>\n",
       "    <tr style=\"text-align: right;\">\n",
       "      <th></th>\n",
       "      <th>battery_power</th>\n",
       "      <th>blue</th>\n",
       "      <th>clock_speed</th>\n",
       "      <th>dual_sim</th>\n",
       "      <th>fc</th>\n",
       "      <th>four_g</th>\n",
       "      <th>int_memory</th>\n",
       "      <th>m_dep</th>\n",
       "      <th>mobile_wt</th>\n",
       "      <th>n_cores</th>\n",
       "      <th>...</th>\n",
       "      <th>px_height</th>\n",
       "      <th>px_width</th>\n",
       "      <th>ram</th>\n",
       "      <th>sc_h</th>\n",
       "      <th>sc_w</th>\n",
       "      <th>talk_time</th>\n",
       "      <th>three_g</th>\n",
       "      <th>touch_screen</th>\n",
       "      <th>wifi</th>\n",
       "      <th>price_range</th>\n",
       "    </tr>\n",
       "  </thead>\n",
       "  <tbody>\n",
       "    <tr>\n",
       "      <th>0</th>\n",
       "      <td>842</td>\n",
       "      <td>0</td>\n",
       "      <td>2.2</td>\n",
       "      <td>0</td>\n",
       "      <td>1</td>\n",
       "      <td>0</td>\n",
       "      <td>7</td>\n",
       "      <td>0.6</td>\n",
       "      <td>188</td>\n",
       "      <td>2</td>\n",
       "      <td>...</td>\n",
       "      <td>20</td>\n",
       "      <td>756</td>\n",
       "      <td>2549</td>\n",
       "      <td>9</td>\n",
       "      <td>7</td>\n",
       "      <td>19</td>\n",
       "      <td>0</td>\n",
       "      <td>0</td>\n",
       "      <td>1</td>\n",
       "      <td>1</td>\n",
       "    </tr>\n",
       "    <tr>\n",
       "      <th>1</th>\n",
       "      <td>1021</td>\n",
       "      <td>1</td>\n",
       "      <td>0.5</td>\n",
       "      <td>1</td>\n",
       "      <td>0</td>\n",
       "      <td>1</td>\n",
       "      <td>53</td>\n",
       "      <td>0.7</td>\n",
       "      <td>136</td>\n",
       "      <td>3</td>\n",
       "      <td>...</td>\n",
       "      <td>905</td>\n",
       "      <td>1988</td>\n",
       "      <td>2631</td>\n",
       "      <td>17</td>\n",
       "      <td>3</td>\n",
       "      <td>7</td>\n",
       "      <td>1</td>\n",
       "      <td>1</td>\n",
       "      <td>0</td>\n",
       "      <td>2</td>\n",
       "    </tr>\n",
       "    <tr>\n",
       "      <th>2</th>\n",
       "      <td>563</td>\n",
       "      <td>1</td>\n",
       "      <td>0.5</td>\n",
       "      <td>1</td>\n",
       "      <td>2</td>\n",
       "      <td>1</td>\n",
       "      <td>41</td>\n",
       "      <td>0.9</td>\n",
       "      <td>145</td>\n",
       "      <td>5</td>\n",
       "      <td>...</td>\n",
       "      <td>1263</td>\n",
       "      <td>1716</td>\n",
       "      <td>2603</td>\n",
       "      <td>11</td>\n",
       "      <td>2</td>\n",
       "      <td>9</td>\n",
       "      <td>1</td>\n",
       "      <td>1</td>\n",
       "      <td>0</td>\n",
       "      <td>2</td>\n",
       "    </tr>\n",
       "    <tr>\n",
       "      <th>3</th>\n",
       "      <td>615</td>\n",
       "      <td>1</td>\n",
       "      <td>2.5</td>\n",
       "      <td>0</td>\n",
       "      <td>0</td>\n",
       "      <td>0</td>\n",
       "      <td>10</td>\n",
       "      <td>0.8</td>\n",
       "      <td>131</td>\n",
       "      <td>6</td>\n",
       "      <td>...</td>\n",
       "      <td>1216</td>\n",
       "      <td>1786</td>\n",
       "      <td>2769</td>\n",
       "      <td>16</td>\n",
       "      <td>8</td>\n",
       "      <td>11</td>\n",
       "      <td>1</td>\n",
       "      <td>0</td>\n",
       "      <td>0</td>\n",
       "      <td>2</td>\n",
       "    </tr>\n",
       "    <tr>\n",
       "      <th>4</th>\n",
       "      <td>1821</td>\n",
       "      <td>1</td>\n",
       "      <td>1.2</td>\n",
       "      <td>0</td>\n",
       "      <td>13</td>\n",
       "      <td>1</td>\n",
       "      <td>44</td>\n",
       "      <td>0.6</td>\n",
       "      <td>141</td>\n",
       "      <td>2</td>\n",
       "      <td>...</td>\n",
       "      <td>1208</td>\n",
       "      <td>1212</td>\n",
       "      <td>1411</td>\n",
       "      <td>8</td>\n",
       "      <td>2</td>\n",
       "      <td>15</td>\n",
       "      <td>1</td>\n",
       "      <td>1</td>\n",
       "      <td>0</td>\n",
       "      <td>1</td>\n",
       "    </tr>\n",
       "  </tbody>\n",
       "</table>\n",
       "<p>5 rows × 21 columns</p>\n",
       "</div>"
      ],
      "text/plain": [
       "   battery_power  blue  clock_speed  dual_sim  fc  four_g  int_memory  m_dep  \\\n",
       "0            842     0          2.2         0   1       0           7    0.6   \n",
       "1           1021     1          0.5         1   0       1          53    0.7   \n",
       "2            563     1          0.5         1   2       1          41    0.9   \n",
       "3            615     1          2.5         0   0       0          10    0.8   \n",
       "4           1821     1          1.2         0  13       1          44    0.6   \n",
       "\n",
       "   mobile_wt  n_cores  ...  px_height  px_width   ram  sc_h  sc_w  talk_time  \\\n",
       "0        188        2  ...         20       756  2549     9     7         19   \n",
       "1        136        3  ...        905      1988  2631    17     3          7   \n",
       "2        145        5  ...       1263      1716  2603    11     2          9   \n",
       "3        131        6  ...       1216      1786  2769    16     8         11   \n",
       "4        141        2  ...       1208      1212  1411     8     2         15   \n",
       "\n",
       "   three_g  touch_screen  wifi  price_range  \n",
       "0        0             0     1            1  \n",
       "1        1             1     0            2  \n",
       "2        1             1     0            2  \n",
       "3        1             0     0            2  \n",
       "4        1             1     0            1  \n",
       "\n",
       "[5 rows x 21 columns]"
      ]
     },
     "execution_count": 3,
     "metadata": {},
     "output_type": "execute_result"
    }
   ],
   "source": [
    "\n",
    "df.head()"
   ]
  },
  {
   "cell_type": "code",
   "execution_count": 4,
   "id": "cf926237",
   "metadata": {},
   "outputs": [
    {
     "data": {
      "text/html": [
       "<div>\n",
       "<style scoped>\n",
       "    .dataframe tbody tr th:only-of-type {\n",
       "        vertical-align: middle;\n",
       "    }\n",
       "\n",
       "    .dataframe tbody tr th {\n",
       "        vertical-align: top;\n",
       "    }\n",
       "\n",
       "    .dataframe thead th {\n",
       "        text-align: right;\n",
       "    }\n",
       "</style>\n",
       "<table border=\"1\" class=\"dataframe\">\n",
       "  <thead>\n",
       "    <tr style=\"text-align: right;\">\n",
       "      <th></th>\n",
       "      <th>battery_power</th>\n",
       "      <th>blue</th>\n",
       "      <th>clock_speed</th>\n",
       "      <th>dual_sim</th>\n",
       "      <th>fc</th>\n",
       "      <th>four_g</th>\n",
       "      <th>int_memory</th>\n",
       "      <th>m_dep</th>\n",
       "      <th>mobile_wt</th>\n",
       "      <th>n_cores</th>\n",
       "      <th>...</th>\n",
       "      <th>px_height</th>\n",
       "      <th>px_width</th>\n",
       "      <th>ram</th>\n",
       "      <th>sc_h</th>\n",
       "      <th>sc_w</th>\n",
       "      <th>talk_time</th>\n",
       "      <th>three_g</th>\n",
       "      <th>touch_screen</th>\n",
       "      <th>wifi</th>\n",
       "      <th>price_range</th>\n",
       "    </tr>\n",
       "  </thead>\n",
       "  <tbody>\n",
       "    <tr>\n",
       "      <th>1995</th>\n",
       "      <td>794</td>\n",
       "      <td>1</td>\n",
       "      <td>0.5</td>\n",
       "      <td>1</td>\n",
       "      <td>0</td>\n",
       "      <td>1</td>\n",
       "      <td>2</td>\n",
       "      <td>0.8</td>\n",
       "      <td>106</td>\n",
       "      <td>6</td>\n",
       "      <td>...</td>\n",
       "      <td>1222</td>\n",
       "      <td>1890</td>\n",
       "      <td>668</td>\n",
       "      <td>13</td>\n",
       "      <td>4</td>\n",
       "      <td>19</td>\n",
       "      <td>1</td>\n",
       "      <td>1</td>\n",
       "      <td>0</td>\n",
       "      <td>0</td>\n",
       "    </tr>\n",
       "    <tr>\n",
       "      <th>1996</th>\n",
       "      <td>1965</td>\n",
       "      <td>1</td>\n",
       "      <td>2.6</td>\n",
       "      <td>1</td>\n",
       "      <td>0</td>\n",
       "      <td>0</td>\n",
       "      <td>39</td>\n",
       "      <td>0.2</td>\n",
       "      <td>187</td>\n",
       "      <td>4</td>\n",
       "      <td>...</td>\n",
       "      <td>915</td>\n",
       "      <td>1965</td>\n",
       "      <td>2032</td>\n",
       "      <td>11</td>\n",
       "      <td>10</td>\n",
       "      <td>16</td>\n",
       "      <td>1</td>\n",
       "      <td>1</td>\n",
       "      <td>1</td>\n",
       "      <td>2</td>\n",
       "    </tr>\n",
       "    <tr>\n",
       "      <th>1997</th>\n",
       "      <td>1911</td>\n",
       "      <td>0</td>\n",
       "      <td>0.9</td>\n",
       "      <td>1</td>\n",
       "      <td>1</td>\n",
       "      <td>1</td>\n",
       "      <td>36</td>\n",
       "      <td>0.7</td>\n",
       "      <td>108</td>\n",
       "      <td>8</td>\n",
       "      <td>...</td>\n",
       "      <td>868</td>\n",
       "      <td>1632</td>\n",
       "      <td>3057</td>\n",
       "      <td>9</td>\n",
       "      <td>1</td>\n",
       "      <td>5</td>\n",
       "      <td>1</td>\n",
       "      <td>1</td>\n",
       "      <td>0</td>\n",
       "      <td>3</td>\n",
       "    </tr>\n",
       "    <tr>\n",
       "      <th>1998</th>\n",
       "      <td>1512</td>\n",
       "      <td>0</td>\n",
       "      <td>0.9</td>\n",
       "      <td>0</td>\n",
       "      <td>4</td>\n",
       "      <td>1</td>\n",
       "      <td>46</td>\n",
       "      <td>0.1</td>\n",
       "      <td>145</td>\n",
       "      <td>5</td>\n",
       "      <td>...</td>\n",
       "      <td>336</td>\n",
       "      <td>670</td>\n",
       "      <td>869</td>\n",
       "      <td>18</td>\n",
       "      <td>10</td>\n",
       "      <td>19</td>\n",
       "      <td>1</td>\n",
       "      <td>1</td>\n",
       "      <td>1</td>\n",
       "      <td>0</td>\n",
       "    </tr>\n",
       "    <tr>\n",
       "      <th>1999</th>\n",
       "      <td>510</td>\n",
       "      <td>1</td>\n",
       "      <td>2.0</td>\n",
       "      <td>1</td>\n",
       "      <td>5</td>\n",
       "      <td>1</td>\n",
       "      <td>45</td>\n",
       "      <td>0.9</td>\n",
       "      <td>168</td>\n",
       "      <td>6</td>\n",
       "      <td>...</td>\n",
       "      <td>483</td>\n",
       "      <td>754</td>\n",
       "      <td>3919</td>\n",
       "      <td>19</td>\n",
       "      <td>4</td>\n",
       "      <td>2</td>\n",
       "      <td>1</td>\n",
       "      <td>1</td>\n",
       "      <td>1</td>\n",
       "      <td>3</td>\n",
       "    </tr>\n",
       "  </tbody>\n",
       "</table>\n",
       "<p>5 rows × 21 columns</p>\n",
       "</div>"
      ],
      "text/plain": [
       "      battery_power  blue  clock_speed  dual_sim  fc  four_g  int_memory  \\\n",
       "1995            794     1          0.5         1   0       1           2   \n",
       "1996           1965     1          2.6         1   0       0          39   \n",
       "1997           1911     0          0.9         1   1       1          36   \n",
       "1998           1512     0          0.9         0   4       1          46   \n",
       "1999            510     1          2.0         1   5       1          45   \n",
       "\n",
       "      m_dep  mobile_wt  n_cores  ...  px_height  px_width   ram  sc_h  sc_w  \\\n",
       "1995    0.8        106        6  ...       1222      1890   668    13     4   \n",
       "1996    0.2        187        4  ...        915      1965  2032    11    10   \n",
       "1997    0.7        108        8  ...        868      1632  3057     9     1   \n",
       "1998    0.1        145        5  ...        336       670   869    18    10   \n",
       "1999    0.9        168        6  ...        483       754  3919    19     4   \n",
       "\n",
       "      talk_time  three_g  touch_screen  wifi  price_range  \n",
       "1995         19        1             1     0            0  \n",
       "1996         16        1             1     1            2  \n",
       "1997          5        1             1     0            3  \n",
       "1998         19        1             1     1            0  \n",
       "1999          2        1             1     1            3  \n",
       "\n",
       "[5 rows x 21 columns]"
      ]
     },
     "execution_count": 4,
     "metadata": {},
     "output_type": "execute_result"
    }
   ],
   "source": [
    "df.tail()"
   ]
  },
  {
   "cell_type": "code",
   "execution_count": 5,
   "id": "610eee59",
   "metadata": {},
   "outputs": [
    {
     "data": {
      "text/plain": [
       "(2000, 21)"
      ]
     },
     "execution_count": 5,
     "metadata": {},
     "output_type": "execute_result"
    }
   ],
   "source": [
    "df.shape"
   ]
  },
  {
   "cell_type": "code",
   "execution_count": 6,
   "id": "b4d772a8",
   "metadata": {},
   "outputs": [
    {
     "data": {
      "text/html": [
       "<div>\n",
       "<style scoped>\n",
       "    .dataframe tbody tr th:only-of-type {\n",
       "        vertical-align: middle;\n",
       "    }\n",
       "\n",
       "    .dataframe tbody tr th {\n",
       "        vertical-align: top;\n",
       "    }\n",
       "\n",
       "    .dataframe thead th {\n",
       "        text-align: right;\n",
       "    }\n",
       "</style>\n",
       "<table border=\"1\" class=\"dataframe\">\n",
       "  <thead>\n",
       "    <tr style=\"text-align: right;\">\n",
       "      <th></th>\n",
       "      <th>battery_power</th>\n",
       "      <th>blue</th>\n",
       "      <th>clock_speed</th>\n",
       "      <th>dual_sim</th>\n",
       "      <th>fc</th>\n",
       "      <th>four_g</th>\n",
       "      <th>int_memory</th>\n",
       "      <th>m_dep</th>\n",
       "      <th>mobile_wt</th>\n",
       "      <th>n_cores</th>\n",
       "      <th>...</th>\n",
       "      <th>px_height</th>\n",
       "      <th>px_width</th>\n",
       "      <th>ram</th>\n",
       "      <th>sc_h</th>\n",
       "      <th>sc_w</th>\n",
       "      <th>talk_time</th>\n",
       "      <th>three_g</th>\n",
       "      <th>touch_screen</th>\n",
       "      <th>wifi</th>\n",
       "      <th>price_range</th>\n",
       "    </tr>\n",
       "  </thead>\n",
       "  <tbody>\n",
       "    <tr>\n",
       "      <th>count</th>\n",
       "      <td>2000.000000</td>\n",
       "      <td>2000.0000</td>\n",
       "      <td>2000.000000</td>\n",
       "      <td>2000.000000</td>\n",
       "      <td>2000.000000</td>\n",
       "      <td>2000.000000</td>\n",
       "      <td>2000.000000</td>\n",
       "      <td>2000.000000</td>\n",
       "      <td>2000.000000</td>\n",
       "      <td>2000.000000</td>\n",
       "      <td>...</td>\n",
       "      <td>2000.000000</td>\n",
       "      <td>2000.000000</td>\n",
       "      <td>2000.000000</td>\n",
       "      <td>2000.000000</td>\n",
       "      <td>2000.000000</td>\n",
       "      <td>2000.000000</td>\n",
       "      <td>2000.000000</td>\n",
       "      <td>2000.000000</td>\n",
       "      <td>2000.000000</td>\n",
       "      <td>2000.000000</td>\n",
       "    </tr>\n",
       "    <tr>\n",
       "      <th>mean</th>\n",
       "      <td>1238.518500</td>\n",
       "      <td>0.4950</td>\n",
       "      <td>1.522250</td>\n",
       "      <td>0.509500</td>\n",
       "      <td>4.309500</td>\n",
       "      <td>0.521500</td>\n",
       "      <td>32.046500</td>\n",
       "      <td>0.501750</td>\n",
       "      <td>140.249000</td>\n",
       "      <td>4.520500</td>\n",
       "      <td>...</td>\n",
       "      <td>645.108000</td>\n",
       "      <td>1251.515500</td>\n",
       "      <td>2124.213000</td>\n",
       "      <td>12.306500</td>\n",
       "      <td>5.767000</td>\n",
       "      <td>11.011000</td>\n",
       "      <td>0.761500</td>\n",
       "      <td>0.503000</td>\n",
       "      <td>0.507000</td>\n",
       "      <td>1.500000</td>\n",
       "    </tr>\n",
       "    <tr>\n",
       "      <th>std</th>\n",
       "      <td>439.418206</td>\n",
       "      <td>0.5001</td>\n",
       "      <td>0.816004</td>\n",
       "      <td>0.500035</td>\n",
       "      <td>4.341444</td>\n",
       "      <td>0.499662</td>\n",
       "      <td>18.145715</td>\n",
       "      <td>0.288416</td>\n",
       "      <td>35.399655</td>\n",
       "      <td>2.287837</td>\n",
       "      <td>...</td>\n",
       "      <td>443.780811</td>\n",
       "      <td>432.199447</td>\n",
       "      <td>1084.732044</td>\n",
       "      <td>4.213245</td>\n",
       "      <td>4.356398</td>\n",
       "      <td>5.463955</td>\n",
       "      <td>0.426273</td>\n",
       "      <td>0.500116</td>\n",
       "      <td>0.500076</td>\n",
       "      <td>1.118314</td>\n",
       "    </tr>\n",
       "    <tr>\n",
       "      <th>min</th>\n",
       "      <td>501.000000</td>\n",
       "      <td>0.0000</td>\n",
       "      <td>0.500000</td>\n",
       "      <td>0.000000</td>\n",
       "      <td>0.000000</td>\n",
       "      <td>0.000000</td>\n",
       "      <td>2.000000</td>\n",
       "      <td>0.100000</td>\n",
       "      <td>80.000000</td>\n",
       "      <td>1.000000</td>\n",
       "      <td>...</td>\n",
       "      <td>0.000000</td>\n",
       "      <td>500.000000</td>\n",
       "      <td>256.000000</td>\n",
       "      <td>5.000000</td>\n",
       "      <td>0.000000</td>\n",
       "      <td>2.000000</td>\n",
       "      <td>0.000000</td>\n",
       "      <td>0.000000</td>\n",
       "      <td>0.000000</td>\n",
       "      <td>0.000000</td>\n",
       "    </tr>\n",
       "    <tr>\n",
       "      <th>25%</th>\n",
       "      <td>851.750000</td>\n",
       "      <td>0.0000</td>\n",
       "      <td>0.700000</td>\n",
       "      <td>0.000000</td>\n",
       "      <td>1.000000</td>\n",
       "      <td>0.000000</td>\n",
       "      <td>16.000000</td>\n",
       "      <td>0.200000</td>\n",
       "      <td>109.000000</td>\n",
       "      <td>3.000000</td>\n",
       "      <td>...</td>\n",
       "      <td>282.750000</td>\n",
       "      <td>874.750000</td>\n",
       "      <td>1207.500000</td>\n",
       "      <td>9.000000</td>\n",
       "      <td>2.000000</td>\n",
       "      <td>6.000000</td>\n",
       "      <td>1.000000</td>\n",
       "      <td>0.000000</td>\n",
       "      <td>0.000000</td>\n",
       "      <td>0.750000</td>\n",
       "    </tr>\n",
       "    <tr>\n",
       "      <th>50%</th>\n",
       "      <td>1226.000000</td>\n",
       "      <td>0.0000</td>\n",
       "      <td>1.500000</td>\n",
       "      <td>1.000000</td>\n",
       "      <td>3.000000</td>\n",
       "      <td>1.000000</td>\n",
       "      <td>32.000000</td>\n",
       "      <td>0.500000</td>\n",
       "      <td>141.000000</td>\n",
       "      <td>4.000000</td>\n",
       "      <td>...</td>\n",
       "      <td>564.000000</td>\n",
       "      <td>1247.000000</td>\n",
       "      <td>2146.500000</td>\n",
       "      <td>12.000000</td>\n",
       "      <td>5.000000</td>\n",
       "      <td>11.000000</td>\n",
       "      <td>1.000000</td>\n",
       "      <td>1.000000</td>\n",
       "      <td>1.000000</td>\n",
       "      <td>1.500000</td>\n",
       "    </tr>\n",
       "    <tr>\n",
       "      <th>75%</th>\n",
       "      <td>1615.250000</td>\n",
       "      <td>1.0000</td>\n",
       "      <td>2.200000</td>\n",
       "      <td>1.000000</td>\n",
       "      <td>7.000000</td>\n",
       "      <td>1.000000</td>\n",
       "      <td>48.000000</td>\n",
       "      <td>0.800000</td>\n",
       "      <td>170.000000</td>\n",
       "      <td>7.000000</td>\n",
       "      <td>...</td>\n",
       "      <td>947.250000</td>\n",
       "      <td>1633.000000</td>\n",
       "      <td>3064.500000</td>\n",
       "      <td>16.000000</td>\n",
       "      <td>9.000000</td>\n",
       "      <td>16.000000</td>\n",
       "      <td>1.000000</td>\n",
       "      <td>1.000000</td>\n",
       "      <td>1.000000</td>\n",
       "      <td>2.250000</td>\n",
       "    </tr>\n",
       "    <tr>\n",
       "      <th>max</th>\n",
       "      <td>1998.000000</td>\n",
       "      <td>1.0000</td>\n",
       "      <td>3.000000</td>\n",
       "      <td>1.000000</td>\n",
       "      <td>19.000000</td>\n",
       "      <td>1.000000</td>\n",
       "      <td>64.000000</td>\n",
       "      <td>1.000000</td>\n",
       "      <td>200.000000</td>\n",
       "      <td>8.000000</td>\n",
       "      <td>...</td>\n",
       "      <td>1960.000000</td>\n",
       "      <td>1998.000000</td>\n",
       "      <td>3998.000000</td>\n",
       "      <td>19.000000</td>\n",
       "      <td>18.000000</td>\n",
       "      <td>20.000000</td>\n",
       "      <td>1.000000</td>\n",
       "      <td>1.000000</td>\n",
       "      <td>1.000000</td>\n",
       "      <td>3.000000</td>\n",
       "    </tr>\n",
       "  </tbody>\n",
       "</table>\n",
       "<p>8 rows × 21 columns</p>\n",
       "</div>"
      ],
      "text/plain": [
       "       battery_power       blue  clock_speed     dual_sim           fc  \\\n",
       "count    2000.000000  2000.0000  2000.000000  2000.000000  2000.000000   \n",
       "mean     1238.518500     0.4950     1.522250     0.509500     4.309500   \n",
       "std       439.418206     0.5001     0.816004     0.500035     4.341444   \n",
       "min       501.000000     0.0000     0.500000     0.000000     0.000000   \n",
       "25%       851.750000     0.0000     0.700000     0.000000     1.000000   \n",
       "50%      1226.000000     0.0000     1.500000     1.000000     3.000000   \n",
       "75%      1615.250000     1.0000     2.200000     1.000000     7.000000   \n",
       "max      1998.000000     1.0000     3.000000     1.000000    19.000000   \n",
       "\n",
       "            four_g   int_memory        m_dep    mobile_wt      n_cores  ...  \\\n",
       "count  2000.000000  2000.000000  2000.000000  2000.000000  2000.000000  ...   \n",
       "mean      0.521500    32.046500     0.501750   140.249000     4.520500  ...   \n",
       "std       0.499662    18.145715     0.288416    35.399655     2.287837  ...   \n",
       "min       0.000000     2.000000     0.100000    80.000000     1.000000  ...   \n",
       "25%       0.000000    16.000000     0.200000   109.000000     3.000000  ...   \n",
       "50%       1.000000    32.000000     0.500000   141.000000     4.000000  ...   \n",
       "75%       1.000000    48.000000     0.800000   170.000000     7.000000  ...   \n",
       "max       1.000000    64.000000     1.000000   200.000000     8.000000  ...   \n",
       "\n",
       "         px_height     px_width          ram         sc_h         sc_w  \\\n",
       "count  2000.000000  2000.000000  2000.000000  2000.000000  2000.000000   \n",
       "mean    645.108000  1251.515500  2124.213000    12.306500     5.767000   \n",
       "std     443.780811   432.199447  1084.732044     4.213245     4.356398   \n",
       "min       0.000000   500.000000   256.000000     5.000000     0.000000   \n",
       "25%     282.750000   874.750000  1207.500000     9.000000     2.000000   \n",
       "50%     564.000000  1247.000000  2146.500000    12.000000     5.000000   \n",
       "75%     947.250000  1633.000000  3064.500000    16.000000     9.000000   \n",
       "max    1960.000000  1998.000000  3998.000000    19.000000    18.000000   \n",
       "\n",
       "         talk_time      three_g  touch_screen         wifi  price_range  \n",
       "count  2000.000000  2000.000000   2000.000000  2000.000000  2000.000000  \n",
       "mean     11.011000     0.761500      0.503000     0.507000     1.500000  \n",
       "std       5.463955     0.426273      0.500116     0.500076     1.118314  \n",
       "min       2.000000     0.000000      0.000000     0.000000     0.000000  \n",
       "25%       6.000000     1.000000      0.000000     0.000000     0.750000  \n",
       "50%      11.000000     1.000000      1.000000     1.000000     1.500000  \n",
       "75%      16.000000     1.000000      1.000000     1.000000     2.250000  \n",
       "max      20.000000     1.000000      1.000000     1.000000     3.000000  \n",
       "\n",
       "[8 rows x 21 columns]"
      ]
     },
     "execution_count": 6,
     "metadata": {},
     "output_type": "execute_result"
    }
   ],
   "source": [
    "df.describe()"
   ]
  },
  {
   "cell_type": "code",
   "execution_count": 7,
   "id": "269b8d92",
   "metadata": {},
   "outputs": [
    {
     "data": {
      "text/plain": [
       "battery_power    0\n",
       "blue             0\n",
       "clock_speed      0\n",
       "dual_sim         0\n",
       "fc               0\n",
       "four_g           0\n",
       "int_memory       0\n",
       "m_dep            0\n",
       "mobile_wt        0\n",
       "n_cores          0\n",
       "pc               0\n",
       "px_height        0\n",
       "px_width         0\n",
       "ram              0\n",
       "sc_h             0\n",
       "sc_w             0\n",
       "talk_time        0\n",
       "three_g          0\n",
       "touch_screen     0\n",
       "wifi             0\n",
       "price_range      0\n",
       "dtype: int64"
      ]
     },
     "execution_count": 7,
     "metadata": {},
     "output_type": "execute_result"
    }
   ],
   "source": [
    "df.isnull().sum()\n",
    "## no missing values"
   ]
  },
  {
   "cell_type": "code",
   "execution_count": 8,
   "id": "0957d9e1",
   "metadata": {},
   "outputs": [
    {
     "name": "stdout",
     "output_type": "stream",
     "text": [
      "<class 'pandas.core.frame.DataFrame'>\n",
      "RangeIndex: 2000 entries, 0 to 1999\n",
      "Data columns (total 21 columns):\n",
      " #   Column         Non-Null Count  Dtype  \n",
      "---  ------         --------------  -----  \n",
      " 0   battery_power  2000 non-null   int64  \n",
      " 1   blue           2000 non-null   int64  \n",
      " 2   clock_speed    2000 non-null   float64\n",
      " 3   dual_sim       2000 non-null   int64  \n",
      " 4   fc             2000 non-null   int64  \n",
      " 5   four_g         2000 non-null   int64  \n",
      " 6   int_memory     2000 non-null   int64  \n",
      " 7   m_dep          2000 non-null   float64\n",
      " 8   mobile_wt      2000 non-null   int64  \n",
      " 9   n_cores        2000 non-null   int64  \n",
      " 10  pc             2000 non-null   int64  \n",
      " 11  px_height      2000 non-null   int64  \n",
      " 12  px_width       2000 non-null   int64  \n",
      " 13  ram            2000 non-null   int64  \n",
      " 14  sc_h           2000 non-null   int64  \n",
      " 15  sc_w           2000 non-null   int64  \n",
      " 16  talk_time      2000 non-null   int64  \n",
      " 17  three_g        2000 non-null   int64  \n",
      " 18  touch_screen   2000 non-null   int64  \n",
      " 19  wifi           2000 non-null   int64  \n",
      " 20  price_range    2000 non-null   int64  \n",
      "dtypes: float64(2), int64(19)\n",
      "memory usage: 328.2 KB\n"
     ]
    }
   ],
   "source": [
    "df.info()"
   ]
  },
  {
   "cell_type": "code",
   "execution_count": 9,
   "id": "b231d0d1",
   "metadata": {},
   "outputs": [
    {
     "data": {
      "text/plain": [
       "Index(['battery_power', 'blue', 'clock_speed', 'dual_sim', 'fc', 'four_g',\n",
       "       'int_memory', 'm_dep', 'mobile_wt', 'n_cores', 'pc', 'px_height',\n",
       "       'px_width', 'ram', 'sc_h', 'sc_w', 'talk_time', 'three_g',\n",
       "       'touch_screen', 'wifi', 'price_range'],\n",
       "      dtype='object')"
      ]
     },
     "execution_count": 9,
     "metadata": {},
     "output_type": "execute_result"
    }
   ],
   "source": [
    "df.columns"
   ]
  },
  {
   "cell_type": "markdown",
   "id": "df041ff6",
   "metadata": {},
   "source": [
    "## EXPLORATORY DOMAIN ANALYSIS "
   ]
  },
  {
   "cell_type": "markdown",
   "id": "5ece2769",
   "metadata": {},
   "source": [
    "### UNIVARIATE ANALYSIS "
   ]
  },
  {
   "cell_type": "code",
   "execution_count": 10,
   "id": "09012031",
   "metadata": {},
   "outputs": [],
   "source": [
    "## numerical features of data set \n",
    "df1=df[['battery_power',  'clock_speed',  'fc', 'int_memory', 'm_dep', 'mobile_wt', 'n_cores', 'pc', 'px_height',\n",
    "        'px_width', 'ram', 'sc_h', 'sc_w', 'talk_time']]"
   ]
  },
  {
   "cell_type": "markdown",
   "id": "d7ec0a79",
   "metadata": {},
   "source": [
    "### Graphical represntation of numerical columns "
   ]
  },
  {
   "cell_type": "code",
   "execution_count": 11,
   "id": "e56d1d1d",
   "metadata": {},
   "outputs": [
    {
     "data": {
      "image/png": "[encoded data removed]",
      "text/plain": [
       "<Figure size 1440x1800 with 12 Axes>"
      ]
     },
     "metadata": {},
     "output_type": "display_data"
    }
   ],
   "source": [
    "## Distribution of numerical columns \n",
    "## to check wether data is normally distributed or not \n",
    "## data is not normally distributed, we will apply transformations \n",
    "\n",
    "import warnings\n",
    "warnings.filterwarnings(\"ignore\")\n",
    "\n",
    "plt.figure(figsize=(20,25), facecolor='white')#To set canvas \n",
    "plotnumber = 1#counter\n",
    "\n",
    "for column in df1:\n",
    "    if plotnumber<=12 :\n",
    "        ax = plt.subplot(5,4,plotnumber)\n",
    "        sns.distplot(x=df1[column],kde=True)\n",
    "        plt.xlabel(column,fontsize=20)\n",
    "    plotnumber+=1\n",
    "plt.tight_layout()\n",
    "plt.show ()\n",
    "\n"
   ]
  },
  {
   "cell_type": "code",
   "execution_count": 12,
   "id": "1ef296a8",
   "metadata": {},
   "outputs": [
    {
     "data": {
      "text/plain": [
       "0    1010\n",
       "1     990\n",
       "Name: blue, dtype: int64"
      ]
     },
     "execution_count": 12,
     "metadata": {},
     "output_type": "execute_result"
    }
   ],
   "source": [
    "df.blue.value_counts()"
   ]
  },
  {
   "cell_type": "code",
   "execution_count": 13,
   "id": "8a56281f",
   "metadata": {},
   "outputs": [
    {
     "data": {
      "text/plain": [
       "1    1019\n",
       "0     981\n",
       "Name: dual_sim, dtype: int64"
      ]
     },
     "execution_count": 13,
     "metadata": {},
     "output_type": "execute_result"
    }
   ],
   "source": [
    "df.dual_sim.value_counts()"
   ]
  },
  {
   "cell_type": "code",
   "execution_count": 14,
   "id": "bc47e74c",
   "metadata": {},
   "outputs": [
    {
     "data": {
      "text/plain": [
       "1    1043\n",
       "0     957\n",
       "Name: four_g, dtype: int64"
      ]
     },
     "execution_count": 14,
     "metadata": {},
     "output_type": "execute_result"
    }
   ],
   "source": [
    "df.four_g.value_counts()"
   ]
  },
  {
   "cell_type": "code",
   "execution_count": 15,
   "id": "3be04926",
   "metadata": {},
   "outputs": [
    {
     "data": {
      "text/plain": [
       "1    1523\n",
       "0     477\n",
       "Name: three_g, dtype: int64"
      ]
     },
     "execution_count": 15,
     "metadata": {},
     "output_type": "execute_result"
    }
   ],
   "source": [
    "df.three_g.value_counts()"
   ]
  },
  {
   "cell_type": "code",
   "execution_count": 16,
   "id": "dba99cf9",
   "metadata": {},
   "outputs": [
    {
     "data": {
      "text/plain": [
       "1    1006\n",
       "0     994\n",
       "Name: touch_screen, dtype: int64"
      ]
     },
     "execution_count": 16,
     "metadata": {},
     "output_type": "execute_result"
    }
   ],
   "source": [
    "df.touch_screen.value_counts()"
   ]
  },
  {
   "cell_type": "code",
   "execution_count": 17,
   "id": "acbae040",
   "metadata": {},
   "outputs": [
    {
     "data": {
      "text/plain": [
       "1    1014\n",
       "0     986\n",
       "Name: wifi, dtype: int64"
      ]
     },
     "execution_count": 17,
     "metadata": {},
     "output_type": "execute_result"
    }
   ],
   "source": [
    "df.wifi.value_counts()"
   ]
  },
  {
   "cell_type": "code",
   "execution_count": 18,
   "id": "162d40ec",
   "metadata": {},
   "outputs": [
    {
     "data": {
      "text/plain": [
       "1    500\n",
       "2    500\n",
       "3    500\n",
       "0    500\n",
       "Name: price_range, dtype: int64"
      ]
     },
     "execution_count": 18,
     "metadata": {},
     "output_type": "execute_result"
    }
   ],
   "source": [
    "## target variable \n",
    "df.price_range.value_counts()"
   ]
  },
  {
   "cell_type": "markdown",
   "id": "223bb9b1",
   "metadata": {},
   "source": [
    "### Checking the balance of target variable "
   ]
  },
  {
   "cell_type": "code",
   "execution_count": 19,
   "id": "b63c5c15",
   "metadata": {},
   "outputs": [
    {
     "data": {
      "image/png": "[encoded data removed]",
      "text/plain": [
       "<Figure size 432x288 with 1 Axes>"
      ]
     },
     "metadata": {
      "needs_background": "light"
     },
     "output_type": "display_data"
    }
   ],
   "source": [
    "import warnings\n",
    "warnings.filterwarnings(\"ignore\")\n",
    "sns.countplot(df['price_range'])\n",
    "plt.show()   \n",
    "## plot suggests that there is no imbalance in data set "
   ]
  },
  {
   "cell_type": "markdown",
   "id": "370cab80",
   "metadata": {},
   "source": [
    "## Bivariate analysis "
   ]
  },
  {
   "cell_type": "markdown",
   "id": "ed545ebd",
   "metadata": {},
   "source": [
    "### Analyzing categorical features w.r.t. target variabe "
   ]
  },
  {
   "cell_type": "code",
   "execution_count": 20,
   "id": "b75f3fba",
   "metadata": {
    "scrolled": true
   },
   "outputs": [
    {
     "data": {
      "text/plain": [
       "<AxesSubplot:xlabel='price_range', ylabel='count'>"
      ]
     },
     "execution_count": 20,
     "metadata": {},
     "output_type": "execute_result"
    },
    {
     "data": {
      "image/png": "[encoded data removed]",
      "text/plain": [
       "<Figure size 432x288 with 1 Axes>"
      ]
     },
     "metadata": {
      "needs_background": "light"
     },
     "output_type": "display_data"
    }
   ],
   "source": [
    "sns.countplot(x=df.price_range,hue=df.wifi)"
   ]
  },
  {
   "cell_type": "code",
   "execution_count": 21,
   "id": "68b05604",
   "metadata": {},
   "outputs": [
    {
     "data": {
      "text/plain": [
       "<AxesSubplot:xlabel='price_range', ylabel='count'>"
      ]
     },
     "execution_count": 21,
     "metadata": {},
     "output_type": "execute_result"
    },
    {
     "data": {
      "image/png": "[encoded data removed]",
      "text/plain": [
       "<Figure size 432x288 with 1 Axes>"
      ]
     },
     "metadata": {
      "needs_background": "light"
     },
     "output_type": "display_data"
    }
   ],
   "source": [
    "sns.countplot(x=df.price_range,hue=df.blue)"
   ]
  },
  {
   "cell_type": "code",
   "execution_count": 22,
   "id": "9a1e0060",
   "metadata": {},
   "outputs": [
    {
     "data": {
      "text/plain": [
       "<AxesSubplot:xlabel='price_range', ylabel='count'>"
      ]
     },
     "execution_count": 22,
     "metadata": {},
     "output_type": "execute_result"
    },
    {
     "data": {
      "image/png": "[encoded data removed]",
      "text/plain": [
       "<Figure size 432x288 with 1 Axes>"
      ]
     },
     "metadata": {
      "needs_background": "light"
     },
     "output_type": "display_data"
    }
   ],
   "source": [
    "sns.countplot(x=df.price_range,hue=df.dual_sim)"
   ]
  },
  {
   "cell_type": "code",
   "execution_count": 23,
   "id": "0928306f",
   "metadata": {},
   "outputs": [
    {
     "data": {
      "text/plain": [
       "<AxesSubplot:xlabel='price_range', ylabel='count'>"
      ]
     },
     "execution_count": 23,
     "metadata": {},
     "output_type": "execute_result"
    },
    {
     "data": {
      "image/png": "[encoded data removed]",
      "text/plain": [
       "<Figure size 432x288 with 1 Axes>"
      ]
     },
     "metadata": {
      "needs_background": "light"
     },
     "output_type": "display_data"
    }
   ],
   "source": [
    "sns.countplot(x=df.price_range,hue=df.four_g)"
   ]
  },
  {
   "cell_type": "code",
   "execution_count": 24,
   "id": "c8aa382e",
   "metadata": {},
   "outputs": [
    {
     "data": {
      "text/plain": [
       "<AxesSubplot:xlabel='price_range', ylabel='count'>"
      ]
     },
     "execution_count": 24,
     "metadata": {},
     "output_type": "execute_result"
    },
    {
     "data": {
      "image/png": "[encoded data removed]",
      "text/plain": [
       "<Figure size 432x288 with 1 Axes>"
      ]
     },
     "metadata": {
      "needs_background": "light"
     },
     "output_type": "display_data"
    }
   ],
   "source": [
    "sns.countplot(x=df.price_range,hue=df.three_g)"
   ]
  },
  {
   "cell_type": "code",
   "execution_count": 25,
   "id": "18b9c0c4",
   "metadata": {},
   "outputs": [
    {
     "data": {
      "text/plain": [
       "<AxesSubplot:xlabel='price_range', ylabel='count'>"
      ]
     },
     "execution_count": 25,
     "metadata": {},
     "output_type": "execute_result"
    },
    {
     "data": {
      "image/png": "[encoded data removed]",
      "text/plain": [
       "<Figure size 432x288 with 1 Axes>"
      ]
     },
     "metadata": {
      "needs_background": "light"
     },
     "output_type": "display_data"
    }
   ],
   "source": [
    "sns.countplot(x=df.price_range,hue=df.touch_screen)"
   ]
  },
  {
   "cell_type": "markdown",
   "id": "592f988f",
   "metadata": {},
   "source": [
    "### Analyzing target variable with numerical features "
   ]
  },
  {
   "cell_type": "code",
   "execution_count": 26,
   "id": "5b6707a2",
   "metadata": {},
   "outputs": [
    {
     "data": {
      "image/png": "[encoded data removed]",
      "text/plain": [
       "<Figure size 1440x1800 with 14 Axes>"
      ]
     },
     "metadata": {},
     "output_type": "display_data"
    }
   ],
   "source": [
    "## Analyzing target variable with numerical features \n",
    "\n",
    "import warnings\n",
    "warnings.filterwarnings(\"ignore\")\n",
    "\n",
    "plt.figure(figsize=(20,25), facecolor='white')#To set canvas \n",
    "plotnumber = 1#counter\n",
    "\n",
    "for column in df1:\n",
    "    if plotnumber<=20 :\n",
    "        ax = plt.subplot(5,4,plotnumber)\n",
    "        sns.barplot(y=df1[column].dropna(axis=0),x=df.price_range)\n",
    "        plt.xlabel(column,fontsize=20)\n",
    "    plotnumber+=1\n",
    "plt.tight_layout()\n",
    "plt.show ()\n",
    "\n",
    "\n"
   ]
  },
  {
   "cell_type": "markdown",
   "id": "5053ed32",
   "metadata": {},
   "source": [
    "### Insights from EDA :\n",
    "\n",
    "1. RAM is the feature that has effect on target variable. as the cost of phone increase ram size also increases\n",
    "2. Talktime is constant w.r.t price because battery power is fairly constant\n",
    "3. Clockspeed is also constant , so we can say that as price increases the quality of processor increases by keeping the clock speed constant\n",
    "4. Front camera(fc) is also constant that means the quality of camera sensor increases as price increases and we can also assume that there will be extra features as price goes up(like dynamic HDR or image stabilization)\n",
    "5. In this particular data set as price goes up the quality of storage goes up that is eventhough the size of storage is constant the quality of NAND gates used in the storage increases there by increasing the read-write speeds of storage\n",
    "6. Width of mobile is also constant here it may be design choice\n",
    "7. We can see that as price goes up mobile weight decreases slightly, thats because they use light weight battery and sensors\n",
    "8. No. of cores is also constant but as price goes up processor brand used is of high quality like snapdragon 800 series for class 3 mobiles and snapdragon 600 series for 0 class mobiles\n",
    "9. Primary camera(pc) size is constant, the size of pixel sensor in pimary camera is constant but as price goes up more features are added like inbuilt filters and astrophotography\n",
    "10. Pixel height and pixel width are slightly proportional to the cost, so we can say that as cost goes higher ppi(pixel per inch) goes higher thereby increasing the quality of the display\n",
    "11. Screen height and screen width are constant so we can say that dimesions of the mobile are same across the price range\n",
    "12. Talk time is constant across the price range, all the mobiles are perfectly tuned to give maximum on screen time or on call time\n"
   ]
  },
  {
   "cell_type": "markdown",
   "id": "e1485e12",
   "metadata": {},
   "source": [
    "## Outlier check"
   ]
  },
  {
   "cell_type": "code",
   "execution_count": 27,
   "id": "292b03f2",
   "metadata": {},
   "outputs": [
    {
     "data": {
      "image/png": "[encoded data removed]",
      "text/plain": [
       "<Figure size 1440x1800 with 20 Axes>"
      ]
     },
     "metadata": {},
     "output_type": "display_data"
    }
   ],
   "source": [
    "## Outlier check\n",
    "\n",
    "plt.figure(figsize=(20,25), facecolor='white')#To set canvas \n",
    "plotnumber = 1#counter\n",
    "\n",
    "for column in df:#accessing the columns \n",
    "    if plotnumber<=20 :\n",
    "        ax = plt.subplot(5,4,plotnumber)\n",
    "        sns.boxplot(x=df[column])\n",
    "        plt.xlabel(column,fontsize=20)#assign name to x-axis and set font-20\n",
    "    plotnumber+=1#counter increment\n",
    "plt.tight_layout()\n",
    "\n"
   ]
  },
  {
   "cell_type": "markdown",
   "id": "17b404e0",
   "metadata": {},
   "source": [
    "### There are no outliers except in front camera. It appears like these data points are outliers, but based on domain analysis we can consdider them as high-end mobiles with high sensor front camera."
   ]
  },
  {
   "cell_type": "markdown",
   "id": "db778d33",
   "metadata": {},
   "source": [
    "## Feature Selection "
   ]
  },
  {
   "cell_type": "code",
   "execution_count": 28,
   "id": "37bc9259",
   "metadata": {},
   "outputs": [
    {
     "data": {
      "text/plain": [
       "<AxesSubplot:>"
      ]
     },
     "execution_count": 28,
     "metadata": {},
     "output_type": "execute_result"
    },
    {
     "data": {
      "image/png": "[encoded data removed]",
      "text/plain": [
       "<Figure size 1440x1440 with 2 Axes>"
      ]
     },
     "metadata": {
      "needs_background": "light"
     },
     "output_type": "display_data"
    }
   ],
   "source": [
    "plt.figure(figsize=(20,20))\n",
    "sns.heatmap(df.drop('price_range',axis=1).corr(),annot=True)"
   ]
  },
  {
   "cell_type": "markdown",
   "id": "8332b7d4",
   "metadata": {},
   "source": [
    "### We will use all the features for model creation, as all the features has good correlation with each other."
   ]
  },
  {
   "cell_type": "markdown",
   "id": "2708a4ca",
   "metadata": {},
   "source": [
    "## Data Pre Processing \n",
    " \n",
    "1. The data neither has any null values nor outliers.\n",
    "2. For the normalization of data, transformation is applied.\n",
    "3. Scaling of numerical features is done."
   ]
  },
  {
   "cell_type": "code",
   "execution_count": 29,
   "id": "50ab71dd",
   "metadata": {},
   "outputs": [],
   "source": [
    "## Normalizing the data \n",
    "## We can see that numerical features need to be normally distributed\n",
    "## Lets pass a list of those columns with its index.\n",
    "\n",
    "from sklearn import preprocessing\n",
    "\n",
    "non_normal_features=[0,2,6,7,8,9,10,11,12,13,14,15,16]\n",
    "power_transformer=preprocessing.PowerTransformer(standardize=False)\n",
    "df.iloc[:,non_normal_features]=power_transformer.fit_transform(df.iloc[:,non_normal_features])"
   ]
  },
  {
   "cell_type": "markdown",
   "id": "72c85589",
   "metadata": {},
   "source": [
    "## Model Creation "
   ]
  },
  {
   "cell_type": "code",
   "execution_count": 30,
   "id": "f9333c04",
   "metadata": {},
   "outputs": [],
   "source": [
    "#model creation\n",
    "#dividing data into dependent and independent variables\n",
    "x=df.iloc[:,:20]\n",
    "y=df.price_range"
   ]
  },
  {
   "cell_type": "code",
   "execution_count": 31,
   "id": "7611bfad",
   "metadata": {},
   "outputs": [
    {
     "data": {
      "text/html": [
       "<div>\n",
       "<style scoped>\n",
       "    .dataframe tbody tr th:only-of-type {\n",
       "        vertical-align: middle;\n",
       "    }\n",
       "\n",
       "    .dataframe tbody tr th {\n",
       "        vertical-align: top;\n",
       "    }\n",
       "\n",
       "    .dataframe thead th {\n",
       "        text-align: right;\n",
       "    }\n",
       "</style>\n",
       "<table border=\"1\" class=\"dataframe\">\n",
       "  <thead>\n",
       "    <tr style=\"text-align: right;\">\n",
       "      <th></th>\n",
       "      <th>battery_power</th>\n",
       "      <th>blue</th>\n",
       "      <th>clock_speed</th>\n",
       "      <th>dual_sim</th>\n",
       "      <th>fc</th>\n",
       "      <th>four_g</th>\n",
       "      <th>int_memory</th>\n",
       "      <th>m_dep</th>\n",
       "      <th>mobile_wt</th>\n",
       "      <th>n_cores</th>\n",
       "      <th>pc</th>\n",
       "      <th>px_height</th>\n",
       "      <th>px_width</th>\n",
       "      <th>ram</th>\n",
       "      <th>sc_h</th>\n",
       "      <th>sc_w</th>\n",
       "      <th>talk_time</th>\n",
       "      <th>three_g</th>\n",
       "      <th>touch_screen</th>\n",
       "      <th>wifi</th>\n",
       "    </tr>\n",
       "  </thead>\n",
       "  <tbody>\n",
       "    <tr>\n",
       "      <th>0</th>\n",
       "      <td>145.046208</td>\n",
       "      <td>0</td>\n",
       "      <td>1.366271</td>\n",
       "      <td>0</td>\n",
       "      <td>1</td>\n",
       "      <td>0</td>\n",
       "      <td>4.564838</td>\n",
       "      <td>0.517086</td>\n",
       "      <td>61.030777</td>\n",
       "      <td>1.681822</td>\n",
       "      <td>1.672910</td>\n",
       "      <td>6.696685</td>\n",
       "      <td>170.245398</td>\n",
       "      <td>420.430081</td>\n",
       "      <td>7.960826</td>\n",
       "      <td>3.180996</td>\n",
       "      <td>10.729309</td>\n",
       "      <td>0</td>\n",
       "      <td>0</td>\n",
       "      <td>1</td>\n",
       "    </tr>\n",
       "    <tr>\n",
       "      <th>1</th>\n",
       "      <td>165.665437</td>\n",
       "      <td>1</td>\n",
       "      <td>0.428466</td>\n",
       "      <td>1</td>\n",
       "      <td>0</td>\n",
       "      <td>1</td>\n",
       "      <td>20.565019</td>\n",
       "      <td>0.591143</td>\n",
       "      <td>47.997949</td>\n",
       "      <td>2.393077</td>\n",
       "      <td>4.241783</td>\n",
       "      <td>48.629489</td>\n",
       "      <td>345.459153</td>\n",
       "      <td>430.297229</td>\n",
       "      <td>14.455640</td>\n",
       "      <td>1.829802</td>\n",
       "      <td>4.850970</td>\n",
       "      <td>1</td>\n",
       "      <td>1</td>\n",
       "      <td>0</td>\n",
       "    </tr>\n",
       "    <tr>\n",
       "      <th>2</th>\n",
       "      <td>109.838459</td>\n",
       "      <td>1</td>\n",
       "      <td>0.428466</td>\n",
       "      <td>1</td>\n",
       "      <td>2</td>\n",
       "      <td>1</td>\n",
       "      <td>17.112596</td>\n",
       "      <td>0.731773</td>\n",
       "      <td>50.338762</td>\n",
       "      <td>3.685132</td>\n",
       "      <td>4.241783</td>\n",
       "      <td>57.116252</td>\n",
       "      <td>310.233162</td>\n",
       "      <td>426.937398</td>\n",
       "      <td>9.614149</td>\n",
       "      <td>1.366283</td>\n",
       "      <td>5.945324</td>\n",
       "      <td>1</td>\n",
       "      <td>1</td>\n",
       "      <td>0</td>\n",
       "    </tr>\n",
       "    <tr>\n",
       "      <th>3</th>\n",
       "      <td>116.757610</td>\n",
       "      <td>1</td>\n",
       "      <td>1.490399</td>\n",
       "      <td>0</td>\n",
       "      <td>0</td>\n",
       "      <td>0</td>\n",
       "      <td>6.020176</td>\n",
       "      <td>0.662631</td>\n",
       "      <td>46.679480</td>\n",
       "      <td>4.285313</td>\n",
       "      <td>5.887404</td>\n",
       "      <td>56.083096</td>\n",
       "      <td>319.435128</td>\n",
       "      <td>446.718319</td>\n",
       "      <td>13.658997</td>\n",
       "      <td>3.448461</td>\n",
       "      <td>6.980725</td>\n",
       "      <td>1</td>\n",
       "      <td>0</td>\n",
       "      <td>0</td>\n",
       "    </tr>\n",
       "    <tr>\n",
       "      <th>4</th>\n",
       "      <td>246.714496</td>\n",
       "      <td>1</td>\n",
       "      <td>0.878564</td>\n",
       "      <td>0</td>\n",
       "      <td>13</td>\n",
       "      <td>1</td>\n",
       "      <td>18.002591</td>\n",
       "      <td>0.517086</td>\n",
       "      <td>49.303393</td>\n",
       "      <td>1.681822</td>\n",
       "      <td>8.349303</td>\n",
       "      <td>55.905122</td>\n",
       "      <td>240.560907</td>\n",
       "      <td>272.510652</td>\n",
       "      <td>7.124548</td>\n",
       "      <td>1.366283</td>\n",
       "      <td>8.920147</td>\n",
       "      <td>1</td>\n",
       "      <td>1</td>\n",
       "      <td>0</td>\n",
       "    </tr>\n",
       "    <tr>\n",
       "      <th>...</th>\n",
       "      <td>...</td>\n",
       "      <td>...</td>\n",
       "      <td>...</td>\n",
       "      <td>...</td>\n",
       "      <td>...</td>\n",
       "      <td>...</td>\n",
       "      <td>...</td>\n",
       "      <td>...</td>\n",
       "      <td>...</td>\n",
       "      <td>...</td>\n",
       "      <td>...</td>\n",
       "      <td>...</td>\n",
       "      <td>...</td>\n",
       "      <td>...</td>\n",
       "      <td>...</td>\n",
       "      <td>...</td>\n",
       "      <td>...</td>\n",
       "      <td>...</td>\n",
       "      <td>...</td>\n",
       "      <td>...</td>\n",
       "    </tr>\n",
       "    <tr>\n",
       "      <th>1995</th>\n",
       "      <td>139.288787</td>\n",
       "      <td>1</td>\n",
       "      <td>0.428466</td>\n",
       "      <td>1</td>\n",
       "      <td>0</td>\n",
       "      <td>1</td>\n",
       "      <td>1.631373</td>\n",
       "      <td>0.662631</td>\n",
       "      <td>39.867521</td>\n",
       "      <td>4.285313</td>\n",
       "      <td>8.349303</td>\n",
       "      <td>56.216165</td>\n",
       "      <td>332.928098</td>\n",
       "      <td>157.321514</td>\n",
       "      <td>11.245623</td>\n",
       "      <td>2.226254</td>\n",
       "      <td>10.729309</td>\n",
       "      <td>1</td>\n",
       "      <td>1</td>\n",
       "      <td>0</td>\n",
       "    </tr>\n",
       "    <tr>\n",
       "      <th>1996</th>\n",
       "      <td>259.965764</td>\n",
       "      <td>1</td>\n",
       "      <td>1.530044</td>\n",
       "      <td>1</td>\n",
       "      <td>0</td>\n",
       "      <td>0</td>\n",
       "      <td>16.507872</td>\n",
       "      <td>0.189134</td>\n",
       "      <td>60.790216</td>\n",
       "      <td>3.056868</td>\n",
       "      <td>2.376617</td>\n",
       "      <td>48.888851</td>\n",
       "      <td>342.533551</td>\n",
       "      <td>356.079722</td>\n",
       "      <td>9.614149</td>\n",
       "      <td>3.932919</td>\n",
       "      <td>9.383071</td>\n",
       "      <td>1</td>\n",
       "      <td>1</td>\n",
       "      <td>1</td>\n",
       "    </tr>\n",
       "    <tr>\n",
       "      <th>1997</th>\n",
       "      <td>255.033720</td>\n",
       "      <td>0</td>\n",
       "      <td>0.700760</td>\n",
       "      <td>1</td>\n",
       "      <td>1</td>\n",
       "      <td>1</td>\n",
       "      <td>15.582155</td>\n",
       "      <td>0.591143</td>\n",
       "      <td>40.427330</td>\n",
       "      <td>5.420183</td>\n",
       "      <td>2.376617</td>\n",
       "      <td>47.656262</td>\n",
       "      <td>299.054991</td>\n",
       "      <td>480.298157</td>\n",
       "      <td>7.960826</td>\n",
       "      <td>0.794011</td>\n",
       "      <td>3.677822</td>\n",
       "      <td>1</td>\n",
       "      <td>1</td>\n",
       "      <td>0</td>\n",
       "    </tr>\n",
       "    <tr>\n",
       "      <th>1998</th>\n",
       "      <td>217.096420</td>\n",
       "      <td>0</td>\n",
       "      <td>0.700760</td>\n",
       "      <td>0</td>\n",
       "      <td>4</td>\n",
       "      <td>1</td>\n",
       "      <td>18.585306</td>\n",
       "      <td>0.097150</td>\n",
       "      <td>50.338762</td>\n",
       "      <td>3.685132</td>\n",
       "      <td>3.651125</td>\n",
       "      <td>29.938332</td>\n",
       "      <td>155.815098</td>\n",
       "      <td>190.898531</td>\n",
       "      <td>15.248773</td>\n",
       "      <td>3.932919</td>\n",
       "      <td>10.729309</td>\n",
       "      <td>1</td>\n",
       "      <td>1</td>\n",
       "      <td>1</td>\n",
       "    </tr>\n",
       "    <tr>\n",
       "      <th>1999</th>\n",
       "      <td>102.575127</td>\n",
       "      <td>1</td>\n",
       "      <td>1.278715</td>\n",
       "      <td>1</td>\n",
       "      <td>5</td>\n",
       "      <td>1</td>\n",
       "      <td>18.294968</td>\n",
       "      <td>0.731773</td>\n",
       "      <td>56.150530</td>\n",
       "      <td>4.285313</td>\n",
       "      <td>9.265937</td>\n",
       "      <td>35.809124</td>\n",
       "      <td>169.915050</td>\n",
       "      <td>576.114929</td>\n",
       "      <td>16.038595</td>\n",
       "      <td>2.226254</td>\n",
       "      <td>1.679909</td>\n",
       "      <td>1</td>\n",
       "      <td>1</td>\n",
       "      <td>1</td>\n",
       "    </tr>\n",
       "  </tbody>\n",
       "</table>\n",
       "<p>2000 rows × 20 columns</p>\n",
       "</div>"
      ],
      "text/plain": [
       "      battery_power  blue  clock_speed  dual_sim  fc  four_g  int_memory  \\\n",
       "0        145.046208     0     1.366271         0   1       0    4.564838   \n",
       "1        165.665437     1     0.428466         1   0       1   20.565019   \n",
       "2        109.838459     1     0.428466         1   2       1   17.112596   \n",
       "3        116.757610     1     1.490399         0   0       0    6.020176   \n",
       "4        246.714496     1     0.878564         0  13       1   18.002591   \n",
       "...             ...   ...          ...       ...  ..     ...         ...   \n",
       "1995     139.288787     1     0.428466         1   0       1    1.631373   \n",
       "1996     259.965764     1     1.530044         1   0       0   16.507872   \n",
       "1997     255.033720     0     0.700760         1   1       1   15.582155   \n",
       "1998     217.096420     0     0.700760         0   4       1   18.585306   \n",
       "1999     102.575127     1     1.278715         1   5       1   18.294968   \n",
       "\n",
       "         m_dep  mobile_wt   n_cores        pc  px_height    px_width  \\\n",
       "0     0.517086  61.030777  1.681822  1.672910   6.696685  170.245398   \n",
       "1     0.591143  47.997949  2.393077  4.241783  48.629489  345.459153   \n",
       "2     0.731773  50.338762  3.685132  4.241783  57.116252  310.233162   \n",
       "3     0.662631  46.679480  4.285313  5.887404  56.083096  319.435128   \n",
       "4     0.517086  49.303393  1.681822  8.349303  55.905122  240.560907   \n",
       "...        ...        ...       ...       ...        ...         ...   \n",
       "1995  0.662631  39.867521  4.285313  8.349303  56.216165  332.928098   \n",
       "1996  0.189134  60.790216  3.056868  2.376617  48.888851  342.533551   \n",
       "1997  0.591143  40.427330  5.420183  2.376617  47.656262  299.054991   \n",
       "1998  0.097150  50.338762  3.685132  3.651125  29.938332  155.815098   \n",
       "1999  0.731773  56.150530  4.285313  9.265937  35.809124  169.915050   \n",
       "\n",
       "             ram       sc_h      sc_w  talk_time  three_g  touch_screen  wifi  \n",
       "0     420.430081   7.960826  3.180996  10.729309        0             0     1  \n",
       "1     430.297229  14.455640  1.829802   4.850970        1             1     0  \n",
       "2     426.937398   9.614149  1.366283   5.945324        1             1     0  \n",
       "3     446.718319  13.658997  3.448461   6.980725        1             0     0  \n",
       "4     272.510652   7.124548  1.366283   8.920147        1             1     0  \n",
       "...          ...        ...       ...        ...      ...           ...   ...  \n",
       "1995  157.321514  11.245623  2.226254  10.729309        1             1     0  \n",
       "1996  356.079722   9.614149  3.932919   9.383071        1             1     1  \n",
       "1997  480.298157   7.960826  0.794011   3.677822        1             1     0  \n",
       "1998  190.898531  15.248773  3.932919  10.729309        1             1     1  \n",
       "1999  576.114929  16.038595  2.226254   1.679909        1             1     1  \n",
       "\n",
       "[2000 rows x 20 columns]"
      ]
     },
     "execution_count": 31,
     "metadata": {},
     "output_type": "execute_result"
    }
   ],
   "source": [
    "x"
   ]
  },
  {
   "cell_type": "code",
   "execution_count": 32,
   "id": "6ef63a20",
   "metadata": {},
   "outputs": [
    {
     "data": {
      "text/plain": [
       "0       1\n",
       "1       2\n",
       "2       2\n",
       "3       2\n",
       "4       1\n",
       "       ..\n",
       "1995    0\n",
       "1996    2\n",
       "1997    3\n",
       "1998    0\n",
       "1999    3\n",
       "Name: price_range, Length: 2000, dtype: int64"
      ]
     },
     "execution_count": 32,
     "metadata": {},
     "output_type": "execute_result"
    }
   ],
   "source": [
    "y"
   ]
  },
  {
   "cell_type": "markdown",
   "id": "db5274c0",
   "metadata": {},
   "source": [
    "## Train-test-split"
   ]
  },
  {
   "cell_type": "code",
   "execution_count": 33,
   "id": "26a604ea",
   "metadata": {},
   "outputs": [],
   "source": [
    "## Train-test-split\n",
    "from sklearn.model_selection import train_test_split\n",
    "x_train,x_test,y_train,y_test=train_test_split(x,y,test_size=0.20,random_state=42)"
   ]
  },
  {
   "cell_type": "code",
   "execution_count": 34,
   "id": "e1e835a4",
   "metadata": {},
   "outputs": [
    {
     "data": {
      "text/plain": [
       "(400, 20)"
      ]
     },
     "execution_count": 34,
     "metadata": {},
     "output_type": "execute_result"
    }
   ],
   "source": [
    "x_test.shape"
   ]
  },
  {
   "cell_type": "code",
   "execution_count": 35,
   "id": "2e9e20ec",
   "metadata": {},
   "outputs": [
    {
     "data": {
      "text/plain": [
       "(1600, 20)"
      ]
     },
     "execution_count": 35,
     "metadata": {},
     "output_type": "execute_result"
    }
   ],
   "source": [
    "x_train.shape"
   ]
  },
  {
   "cell_type": "markdown",
   "id": "053e427b",
   "metadata": {},
   "source": [
    "## Scaling the features"
   ]
  },
  {
   "cell_type": "code",
   "execution_count": 36,
   "id": "b5120f0f",
   "metadata": {},
   "outputs": [],
   "source": [
    "from sklearn.preprocessing import MinMaxScaler\n",
    "scaler=MinMaxScaler()\n",
    "x_train=scaler.fit_transform(x_train)\n",
    "x_test=scaler.fit_transform(x_test)"
   ]
  },
  {
   "cell_type": "code",
   "execution_count": 37,
   "id": "9f88e72c",
   "metadata": {},
   "outputs": [
    {
     "data": {
      "text/plain": [
       "array([[0.95777533, 0.        , 0.        , ..., 1.        , 1.        ,\n",
       "        1.        ],\n",
       "       [0.11006314, 1.        , 0.74871545, ..., 1.        , 1.        ,\n",
       "        1.        ],\n",
       "       [0.54229493, 0.        , 0.21739133, ..., 1.        , 0.        ,\n",
       "        1.        ],\n",
       "       ...,\n",
       "       [0.90411086, 1.        , 0.        , ..., 1.        , 0.        ,\n",
       "        1.        ],\n",
       "       [0.96004029, 0.        , 0.21739133, ..., 0.        , 1.        ,\n",
       "        1.        ],\n",
       "       [0.11167149, 1.        , 0.05798313, ..., 1.        , 0.        ,\n",
       "        0.        ]])"
      ]
     },
     "execution_count": 37,
     "metadata": {},
     "output_type": "execute_result"
    }
   ],
   "source": [
    "x_train"
   ]
  },
  {
   "cell_type": "code",
   "execution_count": 38,
   "id": "38d83d71",
   "metadata": {},
   "outputs": [
    {
     "data": {
      "text/plain": [
       "array([[0.79912072, 0.        , 0.84781529, ..., 1.        , 1.        ,\n",
       "        0.        ],\n",
       "       [0.50787175, 0.        , 0.        , ..., 1.        , 0.        ,\n",
       "        0.        ],\n",
       "       [0.98817565, 0.        , 0.97072285, ..., 1.        , 1.        ,\n",
       "        0.        ],\n",
       "       ...,\n",
       "       [0.41459726, 0.        , 0.60541961, ..., 1.        , 1.        ,\n",
       "        1.        ],\n",
       "       [0.18460752, 0.        , 0.91048267, ..., 1.        , 1.        ,\n",
       "        1.        ],\n",
       "       [0.50985997, 0.        , 0.64257851, ..., 1.        , 1.        ,\n",
       "        1.        ]])"
      ]
     },
     "execution_count": 38,
     "metadata": {},
     "output_type": "execute_result"
    }
   ],
   "source": [
    "x_test"
   ]
  },
  {
   "cell_type": "markdown",
   "id": "aeef9042",
   "metadata": {},
   "source": [
    "## Applying machine learning algorithms \n",
    " \n",
    " We have applied the following algorithms :\n",
    " 1. Support Vector Classifier MOdel\n",
    " 2. Decision Tree\n",
    " 3. Logistic Regression\n",
    " 4. KNN \n",
    " 5. Random Forest\n",
    " 6. Gradient Boosting and XGBoosting\n",
    " 7. Naive Bayes"
   ]
  },
  {
   "cell_type": "markdown",
   "id": "dfec5d36",
   "metadata": {},
   "source": [
    "## Support Vector Classifier Model\n"
   ]
  },
  {
   "cell_type": "code",
   "execution_count": 39,
   "id": "62c7867d",
   "metadata": {},
   "outputs": [
    {
     "data": {
      "text/plain": [
       "SVC()"
      ]
     },
     "execution_count": 39,
     "metadata": {},
     "output_type": "execute_result"
    }
   ],
   "source": [
    "\n",
    "from sklearn.svm import SVC\n",
    "svc = SVC() ## base model with default parameters\n",
    "svc.fit(x_train, y_train)"
   ]
  },
  {
   "cell_type": "code",
   "execution_count": 40,
   "id": "f10777c9",
   "metadata": {},
   "outputs": [],
   "source": [
    "y_pred=svc.predict(x_test)"
   ]
  },
  {
   "cell_type": "code",
   "execution_count": 41,
   "id": "bae03c30",
   "metadata": {},
   "outputs": [
    {
     "data": {
      "text/plain": [
       "array([0, 2, 1, 3, 1, 1, 1, 0, 3, 1, 0, 1, 1, 3, 2, 3, 3, 3, 1, 0, 0, 2,\n",
       "       1, 2, 0, 1, 2, 2, 2, 0, 0, 0, 3, 0, 2, 1, 2, 0, 3, 0, 2, 3, 2, 0,\n",
       "       2, 3, 1, 1, 3, 1, 3, 1, 0, 0, 1, 0, 1, 3, 0, 0, 0, 3, 3, 1, 0, 0,\n",
       "       3, 3, 2, 2, 1, 3, 0, 1, 3, 0, 1, 3, 2, 2, 3, 1, 1, 0, 1, 3, 1, 3,\n",
       "       3, 0, 3, 3, 2, 1, 3, 2, 2, 3, 1, 1, 0, 0, 1, 1, 0, 3, 2, 0, 1, 1,\n",
       "       0, 0, 3, 1, 3, 2, 3, 2, 0, 2, 1, 3, 3, 1, 3, 3, 0, 2, 0, 2, 3, 0,\n",
       "       2, 2, 0, 2, 1, 0, 0, 2, 3, 0, 3, 2, 0, 0, 0, 1, 1, 2, 3, 1, 1, 0,\n",
       "       2, 2, 0, 1, 0, 1, 2, 3, 2, 3, 1, 0, 0, 2, 2, 3, 2, 0, 1, 0, 3, 1,\n",
       "       1, 2, 1, 1, 0, 0, 0, 0, 3, 2, 0, 3, 0, 0, 0, 0, 1, 3, 2, 2, 0, 1,\n",
       "       2, 0, 1, 1, 2, 2, 2, 3, 1, 2, 0, 0, 0, 2, 2, 1, 3, 1, 0, 2, 2, 1,\n",
       "       3, 1, 3, 0, 0, 2, 1, 3, 0, 1, 2, 0, 2, 3, 2, 1, 1, 3, 3, 0, 1, 3,\n",
       "       2, 3, 0, 3, 1, 2, 3, 3, 2, 1, 1, 3, 3, 1, 3, 3, 3, 2, 3, 0, 1, 2,\n",
       "       3, 2, 3, 0, 1, 3, 2, 3, 2, 1, 0, 1, 0, 2, 3, 1, 3, 1, 0, 3, 1, 2,\n",
       "       0, 0, 2, 0, 1, 2, 3, 2, 3, 1, 1, 0, 1, 3, 3, 0, 1, 2, 2, 0, 2, 3,\n",
       "       2, 3, 1, 3, 2, 0, 2, 1, 2, 1, 0, 0, 0, 2, 3, 3, 1, 0, 1, 0, 1, 2,\n",
       "       2, 0, 3, 3, 2, 1, 3, 0, 0, 3, 1, 3, 2, 0, 1, 1, 1, 1, 1, 3, 1, 0,\n",
       "       1, 3, 3, 0, 2, 0, 0, 2, 0, 1, 2, 2, 2, 3, 0, 2, 2, 3, 3, 3, 3, 2,\n",
       "       1, 1, 0, 3, 1, 3, 3, 0, 2, 3, 2, 3, 3, 3, 1, 0, 2, 3, 0, 0, 2, 2,\n",
       "       2, 1, 1, 2], dtype=int64)"
      ]
     },
     "execution_count": 41,
     "metadata": {},
     "output_type": "execute_result"
    }
   ],
   "source": [
    "y_pred"
   ]
  },
  {
   "cell_type": "code",
   "execution_count": 42,
   "id": "a63957e1",
   "metadata": {},
   "outputs": [
    {
     "data": {
      "text/plain": [
       "0.855"
      ]
     },
     "execution_count": 42,
     "metadata": {},
     "output_type": "execute_result"
    }
   ],
   "source": [
    "## evaluating the model created\n",
    "from sklearn.metrics import accuracy_score,classification_report,f1_score\n",
    "acc=accuracy_score(y_test,y_pred)\n",
    "acc"
   ]
  },
  {
   "cell_type": "code",
   "execution_count": 43,
   "id": "bfc4e3a5",
   "metadata": {},
   "outputs": [
    {
     "name": "stdout",
     "output_type": "stream",
     "text": [
      "              precision    recall  f1-score   support\n",
      "\n",
      "           0       0.96      0.93      0.95       105\n",
      "           1       0.80      0.88      0.84        91\n",
      "           2       0.74      0.76      0.75        92\n",
      "           3       0.91      0.84      0.87       112\n",
      "\n",
      "    accuracy                           0.85       400\n",
      "   macro avg       0.85      0.85      0.85       400\n",
      "weighted avg       0.86      0.85      0.86       400\n",
      "\n"
     ]
    }
   ],
   "source": [
    "#classification report fo svc algorithm\n",
    "print(classification_report(y_test,y_pred))"
   ]
  },
  {
   "cell_type": "code",
   "execution_count": 44,
   "id": "933f6c3a",
   "metadata": {},
   "outputs": [
    {
     "data": {
      "text/html": [
       "<div>\n",
       "<style scoped>\n",
       "    .dataframe tbody tr th:only-of-type {\n",
       "        vertical-align: middle;\n",
       "    }\n",
       "\n",
       "    .dataframe tbody tr th {\n",
       "        vertical-align: top;\n",
       "    }\n",
       "\n",
       "    .dataframe thead th {\n",
       "        text-align: right;\n",
       "    }\n",
       "</style>\n",
       "<table border=\"1\" class=\"dataframe\">\n",
       "  <thead>\n",
       "    <tr style=\"text-align: right;\">\n",
       "      <th>col_0</th>\n",
       "      <th>0</th>\n",
       "      <th>1</th>\n",
       "      <th>2</th>\n",
       "      <th>3</th>\n",
       "    </tr>\n",
       "    <tr>\n",
       "      <th>price_range</th>\n",
       "      <th></th>\n",
       "      <th></th>\n",
       "      <th></th>\n",
       "      <th></th>\n",
       "    </tr>\n",
       "  </thead>\n",
       "  <tbody>\n",
       "    <tr>\n",
       "      <th>0</th>\n",
       "      <td>98</td>\n",
       "      <td>7</td>\n",
       "      <td>0</td>\n",
       "      <td>0</td>\n",
       "    </tr>\n",
       "    <tr>\n",
       "      <th>1</th>\n",
       "      <td>4</td>\n",
       "      <td>80</td>\n",
       "      <td>7</td>\n",
       "      <td>0</td>\n",
       "    </tr>\n",
       "    <tr>\n",
       "      <th>2</th>\n",
       "      <td>0</td>\n",
       "      <td>13</td>\n",
       "      <td>70</td>\n",
       "      <td>9</td>\n",
       "    </tr>\n",
       "    <tr>\n",
       "      <th>3</th>\n",
       "      <td>0</td>\n",
       "      <td>0</td>\n",
       "      <td>18</td>\n",
       "      <td>94</td>\n",
       "    </tr>\n",
       "  </tbody>\n",
       "</table>\n",
       "</div>"
      ],
      "text/plain": [
       "col_0         0   1   2   3\n",
       "price_range                \n",
       "0            98   7   0   0\n",
       "1             4  80   7   0\n",
       "2             0  13  70   9\n",
       "3             0   0  18  94"
      ]
     },
     "execution_count": 44,
     "metadata": {},
     "output_type": "execute_result"
    }
   ],
   "source": [
    "cm1=pd.crosstab(y_test,y_pred)\n",
    "cm1"
   ]
  },
  {
   "cell_type": "code",
   "execution_count": 45,
   "id": "2057b9b6",
   "metadata": {},
   "outputs": [
    {
     "data": {
      "text/plain": [
       "{'mean_fit_time': array([0.16136017, 0.05125632, 0.0789196 , 0.0610805 , 0.07468977,\n",
       "        0.07450647]),\n",
       " 'std_fit_time': array([0.0297946 , 0.00078294, 0.00184492, 0.00373725, 0.00212916,\n",
       "        0.00472324]),\n",
       " 'mean_score_time': array([0.06860418, 0.01141381, 0.04046769, 0.00602374, 0.03543024,\n",
       "        0.00463185]),\n",
       " 'std_score_time': array([7.49691568e-03, 7.90289902e-04, 1.37203438e-03, 5.45503793e-05,\n",
       "        3.29215819e-03, 5.20882027e-04]),\n",
       " 'param_C': masked_array(data=[1, 1, 10, 10, 20, 20],\n",
       "              mask=[False, False, False, False, False, False],\n",
       "        fill_value='?',\n",
       "             dtype=object),\n",
       " 'param_kernel': masked_array(data=['rbf', 'linear', 'rbf', 'linear', 'rbf', 'linear'],\n",
       "              mask=[False, False, False, False, False, False],\n",
       "        fill_value='?',\n",
       "             dtype=object),\n",
       " 'params': [{'C': 1, 'kernel': 'rbf'},\n",
       "  {'C': 1, 'kernel': 'linear'},\n",
       "  {'C': 10, 'kernel': 'rbf'},\n",
       "  {'C': 10, 'kernel': 'linear'},\n",
       "  {'C': 20, 'kernel': 'rbf'},\n",
       "  {'C': 20, 'kernel': 'linear'}],\n",
       " 'split0_test_score': array([0.853125, 0.928125, 0.8875  , 0.940625, 0.896875, 0.94375 ]),\n",
       " 'split1_test_score': array([0.8375  , 0.946875, 0.91875 , 0.94375 , 0.915625, 0.959375]),\n",
       " 'split2_test_score': array([0.834375, 0.9125  , 0.9     , 0.946875, 0.9     , 0.925   ]),\n",
       " 'split3_test_score': array([0.78125 , 0.915625, 0.896875, 0.909375, 0.896875, 0.928125]),\n",
       " 'split4_test_score': array([0.815625, 0.93125 , 0.921875, 0.959375, 0.909375, 0.953125]),\n",
       " 'mean_test_score': array([0.824375, 0.926875, 0.905   , 0.94    , 0.90375 , 0.941875]),\n",
       " 'std_test_score': array([0.024638  , 0.0122793 , 0.0131992 , 0.01658312, 0.0075    ,\n",
       "        0.0134919 ]),\n",
       " 'rank_test_score': array([6, 3, 4, 2, 5, 1])}"
      ]
     },
     "execution_count": 45,
     "metadata": {},
     "output_type": "execute_result"
    }
   ],
   "source": [
    "## hyper parameter tuning of SVM\n",
    "\n",
    "from sklearn.model_selection import GridSearchCV\n",
    "\n",
    "grid = GridSearchCV(SVC(gamma='auto'),{\n",
    "    'C':[1,10,20],\n",
    "    'kernel':['rbf','linear']\n",
    "}, cv=5, return_train_score=False)\n",
    "\n",
    "grid.fit(x_train,y_train)\n",
    "grid.cv_results_"
   ]
  },
  {
   "cell_type": "code",
   "execution_count": 46,
   "id": "6a4edb44",
   "metadata": {},
   "outputs": [
    {
     "data": {
      "text/html": [
       "<div>\n",
       "<style scoped>\n",
       "    .dataframe tbody tr th:only-of-type {\n",
       "        vertical-align: middle;\n",
       "    }\n",
       "\n",
       "    .dataframe tbody tr th {\n",
       "        vertical-align: top;\n",
       "    }\n",
       "\n",
       "    .dataframe thead th {\n",
       "        text-align: right;\n",
       "    }\n",
       "</style>\n",
       "<table border=\"1\" class=\"dataframe\">\n",
       "  <thead>\n",
       "    <tr style=\"text-align: right;\">\n",
       "      <th></th>\n",
       "      <th>mean_fit_time</th>\n",
       "      <th>std_fit_time</th>\n",
       "      <th>mean_score_time</th>\n",
       "      <th>std_score_time</th>\n",
       "      <th>param_C</th>\n",
       "      <th>param_kernel</th>\n",
       "      <th>params</th>\n",
       "      <th>split0_test_score</th>\n",
       "      <th>split1_test_score</th>\n",
       "      <th>split2_test_score</th>\n",
       "      <th>split3_test_score</th>\n",
       "      <th>split4_test_score</th>\n",
       "      <th>mean_test_score</th>\n",
       "      <th>std_test_score</th>\n",
       "      <th>rank_test_score</th>\n",
       "    </tr>\n",
       "  </thead>\n",
       "  <tbody>\n",
       "    <tr>\n",
       "      <th>0</th>\n",
       "      <td>0.161360</td>\n",
       "      <td>0.029795</td>\n",
       "      <td>0.068604</td>\n",
       "      <td>0.007497</td>\n",
       "      <td>1</td>\n",
       "      <td>rbf</td>\n",
       "      <td>{'C': 1, 'kernel': 'rbf'}</td>\n",
       "      <td>0.853125</td>\n",
       "      <td>0.837500</td>\n",
       "      <td>0.834375</td>\n",
       "      <td>0.781250</td>\n",
       "      <td>0.815625</td>\n",
       "      <td>0.824375</td>\n",
       "      <td>0.024638</td>\n",
       "      <td>6</td>\n",
       "    </tr>\n",
       "    <tr>\n",
       "      <th>1</th>\n",
       "      <td>0.051256</td>\n",
       "      <td>0.000783</td>\n",
       "      <td>0.011414</td>\n",
       "      <td>0.000790</td>\n",
       "      <td>1</td>\n",
       "      <td>linear</td>\n",
       "      <td>{'C': 1, 'kernel': 'linear'}</td>\n",
       "      <td>0.928125</td>\n",
       "      <td>0.946875</td>\n",
       "      <td>0.912500</td>\n",
       "      <td>0.915625</td>\n",
       "      <td>0.931250</td>\n",
       "      <td>0.926875</td>\n",
       "      <td>0.012279</td>\n",
       "      <td>3</td>\n",
       "    </tr>\n",
       "    <tr>\n",
       "      <th>2</th>\n",
       "      <td>0.078920</td>\n",
       "      <td>0.001845</td>\n",
       "      <td>0.040468</td>\n",
       "      <td>0.001372</td>\n",
       "      <td>10</td>\n",
       "      <td>rbf</td>\n",
       "      <td>{'C': 10, 'kernel': 'rbf'}</td>\n",
       "      <td>0.887500</td>\n",
       "      <td>0.918750</td>\n",
       "      <td>0.900000</td>\n",
       "      <td>0.896875</td>\n",
       "      <td>0.921875</td>\n",
       "      <td>0.905000</td>\n",
       "      <td>0.013199</td>\n",
       "      <td>4</td>\n",
       "    </tr>\n",
       "    <tr>\n",
       "      <th>3</th>\n",
       "      <td>0.061081</td>\n",
       "      <td>0.003737</td>\n",
       "      <td>0.006024</td>\n",
       "      <td>0.000055</td>\n",
       "      <td>10</td>\n",
       "      <td>linear</td>\n",
       "      <td>{'C': 10, 'kernel': 'linear'}</td>\n",
       "      <td>0.940625</td>\n",
       "      <td>0.943750</td>\n",
       "      <td>0.946875</td>\n",
       "      <td>0.909375</td>\n",
       "      <td>0.959375</td>\n",
       "      <td>0.940000</td>\n",
       "      <td>0.016583</td>\n",
       "      <td>2</td>\n",
       "    </tr>\n",
       "    <tr>\n",
       "      <th>4</th>\n",
       "      <td>0.074690</td>\n",
       "      <td>0.002129</td>\n",
       "      <td>0.035430</td>\n",
       "      <td>0.003292</td>\n",
       "      <td>20</td>\n",
       "      <td>rbf</td>\n",
       "      <td>{'C': 20, 'kernel': 'rbf'}</td>\n",
       "      <td>0.896875</td>\n",
       "      <td>0.915625</td>\n",
       "      <td>0.900000</td>\n",
       "      <td>0.896875</td>\n",
       "      <td>0.909375</td>\n",
       "      <td>0.903750</td>\n",
       "      <td>0.007500</td>\n",
       "      <td>5</td>\n",
       "    </tr>\n",
       "    <tr>\n",
       "      <th>5</th>\n",
       "      <td>0.074506</td>\n",
       "      <td>0.004723</td>\n",
       "      <td>0.004632</td>\n",
       "      <td>0.000521</td>\n",
       "      <td>20</td>\n",
       "      <td>linear</td>\n",
       "      <td>{'C': 20, 'kernel': 'linear'}</td>\n",
       "      <td>0.943750</td>\n",
       "      <td>0.959375</td>\n",
       "      <td>0.925000</td>\n",
       "      <td>0.928125</td>\n",
       "      <td>0.953125</td>\n",
       "      <td>0.941875</td>\n",
       "      <td>0.013492</td>\n",
       "      <td>1</td>\n",
       "    </tr>\n",
       "  </tbody>\n",
       "</table>\n",
       "</div>"
      ],
      "text/plain": [
       "   mean_fit_time  std_fit_time  mean_score_time  std_score_time param_C  \\\n",
       "0       0.161360      0.029795         0.068604        0.007497       1   \n",
       "1       0.051256      0.000783         0.011414        0.000790       1   \n",
       "2       0.078920      0.001845         0.040468        0.001372      10   \n",
       "3       0.061081      0.003737         0.006024        0.000055      10   \n",
       "4       0.074690      0.002129         0.035430        0.003292      20   \n",
       "5       0.074506      0.004723         0.004632        0.000521      20   \n",
       "\n",
       "  param_kernel                         params  split0_test_score  \\\n",
       "0          rbf      {'C': 1, 'kernel': 'rbf'}           0.853125   \n",
       "1       linear   {'C': 1, 'kernel': 'linear'}           0.928125   \n",
       "2          rbf     {'C': 10, 'kernel': 'rbf'}           0.887500   \n",
       "3       linear  {'C': 10, 'kernel': 'linear'}           0.940625   \n",
       "4          rbf     {'C': 20, 'kernel': 'rbf'}           0.896875   \n",
       "5       linear  {'C': 20, 'kernel': 'linear'}           0.943750   \n",
       "\n",
       "   split1_test_score  split2_test_score  split3_test_score  split4_test_score  \\\n",
       "0           0.837500           0.834375           0.781250           0.815625   \n",
       "1           0.946875           0.912500           0.915625           0.931250   \n",
       "2           0.918750           0.900000           0.896875           0.921875   \n",
       "3           0.943750           0.946875           0.909375           0.959375   \n",
       "4           0.915625           0.900000           0.896875           0.909375   \n",
       "5           0.959375           0.925000           0.928125           0.953125   \n",
       "\n",
       "   mean_test_score  std_test_score  rank_test_score  \n",
       "0         0.824375        0.024638                6  \n",
       "1         0.926875        0.012279                3  \n",
       "2         0.905000        0.013199                4  \n",
       "3         0.940000        0.016583                2  \n",
       "4         0.903750        0.007500                5  \n",
       "5         0.941875        0.013492                1  "
      ]
     },
     "execution_count": 46,
     "metadata": {},
     "output_type": "execute_result"
    }
   ],
   "source": [
    "d=pd.DataFrame(grid.cv_results_)\n",
    "d"
   ]
  },
  {
   "cell_type": "code",
   "execution_count": 47,
   "id": "96646f26",
   "metadata": {},
   "outputs": [
    {
     "data": {
      "text/html": [
       "<div>\n",
       "<style scoped>\n",
       "    .dataframe tbody tr th:only-of-type {\n",
       "        vertical-align: middle;\n",
       "    }\n",
       "\n",
       "    .dataframe tbody tr th {\n",
       "        vertical-align: top;\n",
       "    }\n",
       "\n",
       "    .dataframe thead th {\n",
       "        text-align: right;\n",
       "    }\n",
       "</style>\n",
       "<table border=\"1\" class=\"dataframe\">\n",
       "  <thead>\n",
       "    <tr style=\"text-align: right;\">\n",
       "      <th></th>\n",
       "      <th>param_C</th>\n",
       "      <th>param_kernel</th>\n",
       "      <th>mean_test_score</th>\n",
       "    </tr>\n",
       "  </thead>\n",
       "  <tbody>\n",
       "    <tr>\n",
       "      <th>0</th>\n",
       "      <td>1</td>\n",
       "      <td>rbf</td>\n",
       "      <td>0.824375</td>\n",
       "    </tr>\n",
       "    <tr>\n",
       "      <th>1</th>\n",
       "      <td>1</td>\n",
       "      <td>linear</td>\n",
       "      <td>0.926875</td>\n",
       "    </tr>\n",
       "    <tr>\n",
       "      <th>2</th>\n",
       "      <td>10</td>\n",
       "      <td>rbf</td>\n",
       "      <td>0.905000</td>\n",
       "    </tr>\n",
       "    <tr>\n",
       "      <th>3</th>\n",
       "      <td>10</td>\n",
       "      <td>linear</td>\n",
       "      <td>0.940000</td>\n",
       "    </tr>\n",
       "    <tr>\n",
       "      <th>4</th>\n",
       "      <td>20</td>\n",
       "      <td>rbf</td>\n",
       "      <td>0.903750</td>\n",
       "    </tr>\n",
       "    <tr>\n",
       "      <th>5</th>\n",
       "      <td>20</td>\n",
       "      <td>linear</td>\n",
       "      <td>0.941875</td>\n",
       "    </tr>\n",
       "  </tbody>\n",
       "</table>\n",
       "</div>"
      ],
      "text/plain": [
       "  param_C param_kernel  mean_test_score\n",
       "0       1          rbf         0.824375\n",
       "1       1       linear         0.926875\n",
       "2      10          rbf         0.905000\n",
       "3      10       linear         0.940000\n",
       "4      20          rbf         0.903750\n",
       "5      20       linear         0.941875"
      ]
     },
     "execution_count": 47,
     "metadata": {},
     "output_type": "execute_result"
    }
   ],
   "source": [
    "d[['param_C','param_kernel','mean_test_score']]"
   ]
  },
  {
   "cell_type": "code",
   "execution_count": 48,
   "id": "ffedc11b",
   "metadata": {},
   "outputs": [
    {
     "data": {
      "text/plain": [
       "{'C': 20, 'kernel': 'linear'}"
      ]
     },
     "execution_count": 48,
     "metadata": {},
     "output_type": "execute_result"
    }
   ],
   "source": [
    "grid.best_params_"
   ]
  },
  {
   "cell_type": "code",
   "execution_count": 49,
   "id": "b73a7824",
   "metadata": {},
   "outputs": [
    {
     "data": {
      "text/plain": [
       "SVC(C=20, gamma='auto', kernel='linear')"
      ]
     },
     "execution_count": 49,
     "metadata": {},
     "output_type": "execute_result"
    }
   ],
   "source": [
    "grid.best_estimator_"
   ]
  },
  {
   "cell_type": "code",
   "execution_count": 50,
   "id": "2d6ff7a0",
   "metadata": {},
   "outputs": [],
   "source": [
    "## Applying best paramters\n",
    "\n",
    "clf=SVC(C=20, gamma='auto',kernel='linear')"
   ]
  },
  {
   "cell_type": "code",
   "execution_count": 51,
   "id": "7938650d",
   "metadata": {},
   "outputs": [
    {
     "data": {
      "text/plain": [
       "SVC(C=20, gamma='auto', kernel='linear')"
      ]
     },
     "execution_count": 51,
     "metadata": {},
     "output_type": "execute_result"
    }
   ],
   "source": [
    "clf.fit(x_train,y_train)"
   ]
  },
  {
   "cell_type": "code",
   "execution_count": 52,
   "id": "87c2ff0e",
   "metadata": {},
   "outputs": [],
   "source": [
    "y_clf=clf.predict(x_test)"
   ]
  },
  {
   "cell_type": "code",
   "execution_count": 53,
   "id": "549f9135",
   "metadata": {},
   "outputs": [
    {
     "name": "stdout",
     "output_type": "stream",
     "text": [
      "              precision    recall  f1-score   support\n",
      "\n",
      "           0       0.99      0.93      0.96       105\n",
      "           1       0.89      0.98      0.93        91\n",
      "           2       0.96      0.93      0.95        92\n",
      "           3       0.98      0.97      0.98       112\n",
      "\n",
      "    accuracy                           0.95       400\n",
      "   macro avg       0.95      0.95      0.95       400\n",
      "weighted avg       0.96      0.95      0.96       400\n",
      "\n"
     ]
    }
   ],
   "source": [
    "print(classification_report(y_test,y_clf))"
   ]
  },
  {
   "cell_type": "code",
   "execution_count": 54,
   "id": "ef3088cf",
   "metadata": {},
   "outputs": [
    {
     "data": {
      "text/html": [
       "<div>\n",
       "<style scoped>\n",
       "    .dataframe tbody tr th:only-of-type {\n",
       "        vertical-align: middle;\n",
       "    }\n",
       "\n",
       "    .dataframe tbody tr th {\n",
       "        vertical-align: top;\n",
       "    }\n",
       "\n",
       "    .dataframe thead th {\n",
       "        text-align: right;\n",
       "    }\n",
       "</style>\n",
       "<table border=\"1\" class=\"dataframe\">\n",
       "  <thead>\n",
       "    <tr style=\"text-align: right;\">\n",
       "      <th>col_0</th>\n",
       "      <th>0</th>\n",
       "      <th>1</th>\n",
       "      <th>2</th>\n",
       "      <th>3</th>\n",
       "    </tr>\n",
       "    <tr>\n",
       "      <th>price_range</th>\n",
       "      <th></th>\n",
       "      <th></th>\n",
       "      <th></th>\n",
       "      <th></th>\n",
       "    </tr>\n",
       "  </thead>\n",
       "  <tbody>\n",
       "    <tr>\n",
       "      <th>0</th>\n",
       "      <td>98</td>\n",
       "      <td>7</td>\n",
       "      <td>0</td>\n",
       "      <td>0</td>\n",
       "    </tr>\n",
       "    <tr>\n",
       "      <th>1</th>\n",
       "      <td>1</td>\n",
       "      <td>89</td>\n",
       "      <td>1</td>\n",
       "      <td>0</td>\n",
       "    </tr>\n",
       "    <tr>\n",
       "      <th>2</th>\n",
       "      <td>0</td>\n",
       "      <td>4</td>\n",
       "      <td>86</td>\n",
       "      <td>2</td>\n",
       "    </tr>\n",
       "    <tr>\n",
       "      <th>3</th>\n",
       "      <td>0</td>\n",
       "      <td>0</td>\n",
       "      <td>3</td>\n",
       "      <td>109</td>\n",
       "    </tr>\n",
       "  </tbody>\n",
       "</table>\n",
       "</div>"
      ],
      "text/plain": [
       "col_0         0   1   2    3\n",
       "price_range                 \n",
       "0            98   7   0    0\n",
       "1             1  89   1    0\n",
       "2             0   4  86    2\n",
       "3             0   0   3  109"
      ]
     },
     "execution_count": 54,
     "metadata": {},
     "output_type": "execute_result"
    }
   ],
   "source": [
    "cm=pd.crosstab(y_test,y_clf)\n",
    "cm"
   ]
  },
  {
   "cell_type": "code",
   "execution_count": 55,
   "id": "cf4f1c8f",
   "metadata": {},
   "outputs": [
    {
     "data": {
      "text/plain": [
       "0.9553061996160318"
      ]
     },
     "execution_count": 55,
     "metadata": {},
     "output_type": "execute_result"
    }
   ],
   "source": [
    "f1=f1_score(y_test,y_clf,average='weighted')\n",
    "f1"
   ]
  },
  {
   "cell_type": "markdown",
   "id": "a08d1354",
   "metadata": {},
   "source": [
    "### After hyper parameter tuning the f1_score of SVM model is changed from 0.85 to 0.95"
   ]
  },
  {
   "cell_type": "markdown",
   "id": "9d74bbe9",
   "metadata": {},
   "source": [
    "## Decision Tree"
   ]
  },
  {
   "cell_type": "code",
   "execution_count": 56,
   "id": "07120282",
   "metadata": {},
   "outputs": [
    {
     "data": {
      "text/plain": [
       "array([0, 2, 1, 3, 1, 1, 2, 0, 2, 1, 0, 1, 1, 2, 2, 2, 3, 3, 1, 0, 0, 2,\n",
       "       1, 2, 0, 1, 2, 2, 2, 0, 1, 0, 3, 0, 1, 1, 2, 1, 3, 0, 2, 3, 2, 0,\n",
       "       3, 2, 1, 1, 3, 1, 3, 1, 0, 0, 0, 0, 1, 3, 0, 0, 1, 3, 3, 1, 0, 0,\n",
       "       3, 3, 1, 2, 2, 2, 0, 1, 3, 0, 0, 3, 2, 2, 3, 2, 1, 0, 1, 3, 2, 3,\n",
       "       3, 0, 3, 3, 2, 1, 3, 2, 2, 3, 1, 1, 0, 0, 1, 1, 0, 3, 2, 0, 1, 1,\n",
       "       0, 0, 3, 1, 2, 2, 3, 2, 0, 2, 1, 3, 2, 1, 3, 3, 1, 3, 1, 2, 3, 0,\n",
       "       2, 2, 0, 3, 1, 0, 0, 2, 2, 1, 3, 3, 0, 0, 0, 1, 2, 3, 3, 1, 1, 0,\n",
       "       2, 2, 0, 1, 0, 1, 2, 3, 3, 3, 1, 0, 0, 2, 2, 3, 3, 1, 1, 0, 3, 1,\n",
       "       2, 2, 1, 0, 0, 0, 0, 0, 3, 3, 0, 3, 0, 1, 0, 0, 1, 3, 3, 1, 0, 1,\n",
       "       1, 1, 1, 1, 2, 2, 3, 3, 1, 2, 0, 0, 0, 2, 1, 1, 3, 1, 1, 3, 1, 1,\n",
       "       3, 2, 3, 0, 0, 1, 1, 3, 0, 1, 2, 0, 2, 3, 2, 1, 1, 3, 3, 0, 2, 3,\n",
       "       3, 3, 0, 3, 1, 2, 3, 3, 2, 0, 1, 3, 3, 0, 3, 3, 3, 2, 3, 0, 1, 2,\n",
       "       2, 1, 2, 0, 2, 3, 2, 3, 2, 1, 0, 2, 0, 2, 3, 0, 3, 1, 0, 3, 1, 2,\n",
       "       0, 0, 3, 0, 1, 3, 3, 3, 3, 0, 1, 0, 1, 3, 3, 0, 1, 1, 2, 0, 3, 3,\n",
       "       2, 3, 1, 3, 2, 0, 2, 1, 1, 1, 0, 0, 1, 3, 3, 3, 1, 0, 1, 1, 1, 3,\n",
       "       3, 1, 3, 3, 2, 1, 2, 0, 0, 3, 1, 3, 3, 0, 1, 1, 1, 0, 2, 3, 1, 0,\n",
       "       0, 3, 3, 0, 3, 0, 0, 2, 0, 1, 2, 2, 2, 3, 1, 2, 2, 2, 3, 3, 3, 3,\n",
       "       1, 1, 0, 3, 1, 3, 3, 0, 2, 3, 1, 3, 3, 3, 1, 0, 2, 3, 0, 0, 3, 3,\n",
       "       1, 1, 1, 2], dtype=int64)"
      ]
     },
     "execution_count": 56,
     "metadata": {},
     "output_type": "execute_result"
    }
   ],
   "source": [
    "from sklearn.tree import DecisionTreeClassifier#importing decision tree from sklearn.tree\n",
    "dt=DecisionTreeClassifier()#object creation for decision tree  \n",
    "dt.fit(x_train,y_train)#training the model\n",
    "y_hat=dt.predict(x_test)#prediction\n",
    "y_hat#predicted values "
   ]
  },
  {
   "cell_type": "code",
   "execution_count": 57,
   "id": "ad6d375a",
   "metadata": {},
   "outputs": [
    {
     "data": {
      "text/plain": [
       "array([1, 2, 0, ..., 2, 3, 1], dtype=int64)"
      ]
     },
     "execution_count": 57,
     "metadata": {},
     "output_type": "execute_result"
    }
   ],
   "source": [
    "y_train_predict=dt.predict(x_train)#predicting training data to check training performance \n",
    "y_train_predict"
   ]
  },
  {
   "cell_type": "code",
   "execution_count": 58,
   "id": "2e50ec06",
   "metadata": {},
   "outputs": [
    {
     "data": {
      "text/plain": [
       "1.0"
      ]
     },
     "execution_count": 58,
     "metadata": {},
     "output_type": "execute_result"
    }
   ],
   "source": [
    "y_train_predict=dt.predict(x_train)#passing X_train to predict Y_train\n",
    "acc_train=accuracy_score(y_train,y_train_predict)#checking accuracy\n",
    "acc_train\n"
   ]
  },
  {
   "cell_type": "code",
   "execution_count": 59,
   "id": "fb95dd90",
   "metadata": {},
   "outputs": [
    {
     "data": {
      "text/plain": [
       "0.825"
      ]
     },
     "execution_count": 59,
     "metadata": {},
     "output_type": "execute_result"
    }
   ],
   "source": [
    "## test acc\n",
    "test_acc=accuracy_score(y_test,y_hat)#testing accuracy \n",
    "test_acc"
   ]
  },
  {
   "cell_type": "code",
   "execution_count": 60,
   "id": "827c6b6d",
   "metadata": {},
   "outputs": [
    {
     "data": {
      "text/plain": [
       "0.8248886426407965"
      ]
     },
     "execution_count": 60,
     "metadata": {},
     "output_type": "execute_result"
    }
   ],
   "source": [
    "## test score\n",
    "test_f1=f1_score(y_test,y_hat,average='weighted')#f1 score\n",
    "test_f1"
   ]
  },
  {
   "cell_type": "code",
   "execution_count": 61,
   "id": "51885041",
   "metadata": {},
   "outputs": [
    {
     "name": "stdout",
     "output_type": "stream",
     "text": [
      "              precision    recall  f1-score   support\n",
      "\n",
      "           0       0.92      0.85      0.88       105\n",
      "           1       0.74      0.86      0.79        91\n",
      "           2       0.78      0.70      0.74        92\n",
      "           3       0.86      0.88      0.87       112\n",
      "\n",
      "    accuracy                           0.82       400\n",
      "   macro avg       0.82      0.82      0.82       400\n",
      "weighted avg       0.83      0.82      0.82       400\n",
      "\n"
     ]
    }
   ],
   "source": [
    "print(classification_report(y_test,y_hat))# for  testing "
   ]
  },
  {
   "cell_type": "code",
   "execution_count": 62,
   "id": "01171549",
   "metadata": {},
   "outputs": [
    {
     "data": {
      "text/html": [
       "<div>\n",
       "<style scoped>\n",
       "    .dataframe tbody tr th:only-of-type {\n",
       "        vertical-align: middle;\n",
       "    }\n",
       "\n",
       "    .dataframe tbody tr th {\n",
       "        vertical-align: top;\n",
       "    }\n",
       "\n",
       "    .dataframe thead th {\n",
       "        text-align: right;\n",
       "    }\n",
       "</style>\n",
       "<table border=\"1\" class=\"dataframe\">\n",
       "  <thead>\n",
       "    <tr style=\"text-align: right;\">\n",
       "      <th>col_0</th>\n",
       "      <th>0</th>\n",
       "      <th>1</th>\n",
       "      <th>2</th>\n",
       "      <th>3</th>\n",
       "    </tr>\n",
       "    <tr>\n",
       "      <th>price_range</th>\n",
       "      <th></th>\n",
       "      <th></th>\n",
       "      <th></th>\n",
       "      <th></th>\n",
       "    </tr>\n",
       "  </thead>\n",
       "  <tbody>\n",
       "    <tr>\n",
       "      <th>0</th>\n",
       "      <td>89</td>\n",
       "      <td>16</td>\n",
       "      <td>0</td>\n",
       "      <td>0</td>\n",
       "    </tr>\n",
       "    <tr>\n",
       "      <th>1</th>\n",
       "      <td>8</td>\n",
       "      <td>78</td>\n",
       "      <td>5</td>\n",
       "      <td>0</td>\n",
       "    </tr>\n",
       "    <tr>\n",
       "      <th>2</th>\n",
       "      <td>0</td>\n",
       "      <td>12</td>\n",
       "      <td>64</td>\n",
       "      <td>16</td>\n",
       "    </tr>\n",
       "    <tr>\n",
       "      <th>3</th>\n",
       "      <td>0</td>\n",
       "      <td>0</td>\n",
       "      <td>13</td>\n",
       "      <td>99</td>\n",
       "    </tr>\n",
       "  </tbody>\n",
       "</table>\n",
       "</div>"
      ],
      "text/plain": [
       "col_0         0   1   2   3\n",
       "price_range                \n",
       "0            89  16   0   0\n",
       "1             8  78   5   0\n",
       "2             0  12  64  16\n",
       "3             0   0  13  99"
      ]
     },
     "execution_count": 62,
     "metadata": {},
     "output_type": "execute_result"
    }
   ],
   "source": [
    "pd.crosstab(y_test,y_hat)# confusion matrix "
   ]
  },
  {
   "cell_type": "markdown",
   "id": "43e03719",
   "metadata": {},
   "source": [
    "## Hyperparameter tuning of decision tree "
   ]
  },
  {
   "cell_type": "code",
   "execution_count": 63,
   "id": "9ea4f92c",
   "metadata": {},
   "outputs": [],
   "source": [
    "params = {\n",
    "    \"criterion\":(\"gini\", \"entropy\"), #quality of split\n",
    "    \"splitter\":(\"best\", \"random\"), # searches the features for a split\n",
    "    \"max_depth\":(list(range(1, 20))), #depth of tree range from 1 to 19\n",
    "    \"min_samples_split\":[2, 3, 4],    #the minimum number of samples required to split internal node\n",
    "    \"min_samples_leaf\":list(range(1, 20)),#minimum number of samples required to be at a leaf node,we are passing list which is range from 1 to 19 \n",
    "}\n"
   ]
  },
  {
   "cell_type": "code",
   "execution_count": 64,
   "id": "6c195cd2",
   "metadata": {},
   "outputs": [],
   "source": [
    "from sklearn.model_selection import GridSearchCV\n",
    "grd=GridSearchCV(dt,param_grid=params,cv=10,n_jobs=-1)"
   ]
  },
  {
   "cell_type": "code",
   "execution_count": 65,
   "id": "21fdc080",
   "metadata": {},
   "outputs": [
    {
     "data": {
      "text/plain": [
       "GridSearchCV(cv=10, estimator=DecisionTreeClassifier(), n_jobs=-1,\n",
       "             param_grid={'criterion': ('gini', 'entropy'),\n",
       "                         'max_depth': [1, 2, 3, 4, 5, 6, 7, 8, 9, 10, 11, 12,\n",
       "                                       13, 14, 15, 16, 17, 18, 19],\n",
       "                         'min_samples_leaf': [1, 2, 3, 4, 5, 6, 7, 8, 9, 10, 11,\n",
       "                                              12, 13, 14, 15, 16, 17, 18, 19],\n",
       "                         'min_samples_split': [2, 3, 4],\n",
       "                         'splitter': ('best', 'random')})"
      ]
     },
     "execution_count": 65,
     "metadata": {},
     "output_type": "execute_result"
    }
   ],
   "source": [
    "grd.fit(x_train,y_train)"
   ]
  },
  {
   "cell_type": "code",
   "execution_count": 66,
   "id": "b5faad45",
   "metadata": {},
   "outputs": [
    {
     "data": {
      "text/plain": [
       "DecisionTreeClassifier(criterion='entropy', max_depth=13, min_samples_leaf=4,\n",
       "                       min_samples_split=4)"
      ]
     },
     "execution_count": 66,
     "metadata": {},
     "output_type": "execute_result"
    }
   ],
   "source": [
    "grd.best_estimator_"
   ]
  },
  {
   "cell_type": "code",
   "execution_count": 67,
   "id": "0004ae68",
   "metadata": {},
   "outputs": [
    {
     "data": {
      "text/plain": [
       "0.8637500000000001"
      ]
     },
     "execution_count": 67,
     "metadata": {},
     "output_type": "execute_result"
    }
   ],
   "source": [
    "grd.best_score_"
   ]
  },
  {
   "cell_type": "code",
   "execution_count": 68,
   "id": "08b6b386",
   "metadata": {},
   "outputs": [
    {
     "data": {
      "text/plain": [
       "{'criterion': 'entropy',\n",
       " 'max_depth': 13,\n",
       " 'min_samples_leaf': 4,\n",
       " 'min_samples_split': 4,\n",
       " 'splitter': 'best'}"
      ]
     },
     "execution_count": 68,
     "metadata": {},
     "output_type": "execute_result"
    }
   ],
   "source": [
    "grd.best_params_"
   ]
  },
  {
   "cell_type": "code",
   "execution_count": 69,
   "id": "003541e2",
   "metadata": {},
   "outputs": [],
   "source": [
    "## Applying best parameters\n",
    "\n",
    "DT=DecisionTreeClassifier(criterion='entropy', max_depth=14, min_samples_leaf=4)"
   ]
  },
  {
   "cell_type": "code",
   "execution_count": 70,
   "id": "57fdc130",
   "metadata": {},
   "outputs": [
    {
     "data": {
      "text/plain": [
       "DecisionTreeClassifier(criterion='entropy', max_depth=14, min_samples_leaf=4)"
      ]
     },
     "execution_count": 70,
     "metadata": {},
     "output_type": "execute_result"
    }
   ],
   "source": [
    "DT.fit(x_train,y_train)"
   ]
  },
  {
   "cell_type": "code",
   "execution_count": 71,
   "id": "47b7c6cc",
   "metadata": {},
   "outputs": [],
   "source": [
    "y_dt=DT.predict(x_test)"
   ]
  },
  {
   "cell_type": "code",
   "execution_count": 72,
   "id": "ba2c1cd0",
   "metadata": {},
   "outputs": [
    {
     "name": "stdout",
     "output_type": "stream",
     "text": [
      "              precision    recall  f1-score   support\n",
      "\n",
      "           0       0.93      0.88      0.90       105\n",
      "           1       0.76      0.86      0.81        91\n",
      "           2       0.78      0.80      0.79        92\n",
      "           3       0.93      0.87      0.90       112\n",
      "\n",
      "    accuracy                           0.85       400\n",
      "   macro avg       0.85      0.85      0.85       400\n",
      "weighted avg       0.86      0.85      0.85       400\n",
      "\n"
     ]
    }
   ],
   "source": [
    "print(classification_report(y_test,y_dt))"
   ]
  },
  {
   "cell_type": "code",
   "execution_count": 73,
   "id": "39cafb5e",
   "metadata": {},
   "outputs": [
    {
     "data": {
      "text/plain": [
       "0.8525"
      ]
     },
     "execution_count": 73,
     "metadata": {},
     "output_type": "execute_result"
    }
   ],
   "source": [
    "## test acc\n",
    "dt_acc=accuracy_score(y_test,y_dt)#testing accuracy \n",
    "dt_acc"
   ]
  },
  {
   "cell_type": "code",
   "execution_count": 74,
   "id": "a4132747",
   "metadata": {},
   "outputs": [
    {
     "data": {
      "text/plain": [
       "0.8541642832880261"
      ]
     },
     "execution_count": 74,
     "metadata": {},
     "output_type": "execute_result"
    }
   ],
   "source": [
    "## test score\n",
    "dt_f1=f1_score(y_test,y_dt,average='weighted')#f1 score\n",
    "dt_f1"
   ]
  },
  {
   "cell_type": "code",
   "execution_count": 75,
   "id": "18459416",
   "metadata": {},
   "outputs": [
    {
     "data": {
      "text/html": [
       "<div>\n",
       "<style scoped>\n",
       "    .dataframe tbody tr th:only-of-type {\n",
       "        vertical-align: middle;\n",
       "    }\n",
       "\n",
       "    .dataframe tbody tr th {\n",
       "        vertical-align: top;\n",
       "    }\n",
       "\n",
       "    .dataframe thead th {\n",
       "        text-align: right;\n",
       "    }\n",
       "</style>\n",
       "<table border=\"1\" class=\"dataframe\">\n",
       "  <thead>\n",
       "    <tr style=\"text-align: right;\">\n",
       "      <th>col_0</th>\n",
       "      <th>0</th>\n",
       "      <th>1</th>\n",
       "      <th>2</th>\n",
       "      <th>3</th>\n",
       "    </tr>\n",
       "    <tr>\n",
       "      <th>price_range</th>\n",
       "      <th></th>\n",
       "      <th></th>\n",
       "      <th></th>\n",
       "      <th></th>\n",
       "    </tr>\n",
       "  </thead>\n",
       "  <tbody>\n",
       "    <tr>\n",
       "      <th>0</th>\n",
       "      <td>92</td>\n",
       "      <td>13</td>\n",
       "      <td>0</td>\n",
       "      <td>0</td>\n",
       "    </tr>\n",
       "    <tr>\n",
       "      <th>1</th>\n",
       "      <td>7</td>\n",
       "      <td>78</td>\n",
       "      <td>6</td>\n",
       "      <td>0</td>\n",
       "    </tr>\n",
       "    <tr>\n",
       "      <th>2</th>\n",
       "      <td>0</td>\n",
       "      <td>11</td>\n",
       "      <td>74</td>\n",
       "      <td>7</td>\n",
       "    </tr>\n",
       "    <tr>\n",
       "      <th>3</th>\n",
       "      <td>0</td>\n",
       "      <td>0</td>\n",
       "      <td>15</td>\n",
       "      <td>97</td>\n",
       "    </tr>\n",
       "  </tbody>\n",
       "</table>\n",
       "</div>"
      ],
      "text/plain": [
       "col_0         0   1   2   3\n",
       "price_range                \n",
       "0            92  13   0   0\n",
       "1             7  78   6   0\n",
       "2             0  11  74   7\n",
       "3             0   0  15  97"
      ]
     },
     "execution_count": 75,
     "metadata": {},
     "output_type": "execute_result"
    }
   ],
   "source": [
    "pd.crosstab(y_test,y_dt)# confusion matrix "
   ]
  },
  {
   "cell_type": "markdown",
   "id": "49e8b176",
   "metadata": {},
   "source": [
    "### After hyper parameter tuning the f1_score of Decision Tree model is changed from 0.82 to 0.86"
   ]
  },
  {
   "cell_type": "markdown",
   "id": "a14bb9c0",
   "metadata": {},
   "source": [
    "## Logistic Regression"
   ]
  },
  {
   "cell_type": "code",
   "execution_count": 76,
   "id": "d0edff44",
   "metadata": {},
   "outputs": [],
   "source": [
    "#importing  Logistic Regression algorithm\n",
    "from sklearn.linear_model import LogisticRegression\n",
    "#creating object for the alg\n",
    "LR=LogisticRegression()"
   ]
  },
  {
   "cell_type": "code",
   "execution_count": 77,
   "id": "af7c9bb8",
   "metadata": {},
   "outputs": [
    {
     "data": {
      "text/plain": [
       "LogisticRegression()"
      ]
     },
     "execution_count": 77,
     "metadata": {},
     "output_type": "execute_result"
    }
   ],
   "source": [
    "#training the algorithm\n",
    "LR.fit(x_train,y_train)"
   ]
  },
  {
   "cell_type": "code",
   "execution_count": 78,
   "id": "8958c3ca",
   "metadata": {},
   "outputs": [
    {
     "data": {
      "text/plain": [
       "LogisticRegression()"
      ]
     },
     "execution_count": 78,
     "metadata": {},
     "output_type": "execute_result"
    }
   ],
   "source": [
    "#testing the alg\n",
    "LR.fit(x_test,y_test)"
   ]
  },
  {
   "cell_type": "code",
   "execution_count": 79,
   "id": "230d4710",
   "metadata": {},
   "outputs": [
    {
     "data": {
      "text/plain": [
       "array([0, 2, 1, 3, 2, 2, 2, 0, 3, 1, 0, 0, 1, 3, 3, 3, 3, 3, 1, 0, 0, 2,\n",
       "       1, 2, 0, 1, 3, 3, 2, 0, 0, 0, 3, 0, 1, 1, 3, 0, 3, 0, 2, 3, 2, 0,\n",
       "       2, 3, 2, 1, 3, 1, 3, 1, 0, 0, 1, 0, 1, 3, 0, 0, 0, 3, 3, 1, 0, 0,\n",
       "       3, 3, 0, 2, 1, 2, 0, 2, 2, 0, 1, 3, 3, 2, 3, 1, 1, 0, 1, 3, 2, 3,\n",
       "       3, 0, 2, 3, 2, 0, 3, 3, 3, 3, 2, 1, 0, 0, 1, 1, 0, 3, 2, 0, 1, 1,\n",
       "       0, 0, 3, 1, 3, 2, 3, 2, 0, 2, 1, 3, 2, 1, 3, 3, 0, 3, 0, 2, 3, 0,\n",
       "       3, 3, 0, 3, 1, 0, 0, 2, 2, 1, 3, 2, 0, 0, 0, 1, 1, 3, 3, 0, 1, 0,\n",
       "       2, 2, 0, 2, 0, 2, 2, 3, 3, 3, 1, 0, 0, 2, 2, 3, 3, 0, 1, 0, 3, 1,\n",
       "       1, 2, 1, 0, 0, 0, 0, 0, 3, 2, 0, 2, 0, 0, 0, 0, 1, 3, 3, 2, 0, 1,\n",
       "       2, 1, 1, 2, 2, 3, 2, 3, 1, 2, 0, 0, 0, 3, 2, 1, 3, 1, 1, 2, 2, 1,\n",
       "       3, 3, 3, 0, 0, 1, 1, 3, 0, 1, 2, 0, 1, 3, 2, 0, 1, 3, 3, 0, 1, 3,\n",
       "       2, 3, 0, 3, 1, 2, 3, 3, 2, 0, 0, 3, 3, 1, 3, 2, 3, 3, 3, 0, 1, 2,\n",
       "       3, 1, 3, 0, 2, 3, 2, 3, 2, 0, 0, 2, 0, 3, 3, 1, 3, 1, 0, 3, 1, 2,\n",
       "       0, 0, 2, 0, 1, 3, 3, 3, 3, 1, 1, 0, 0, 3, 3, 0, 1, 1, 2, 0, 3, 3,\n",
       "       2, 3, 1, 3, 2, 0, 2, 1, 1, 1, 0, 0, 0, 3, 3, 3, 2, 0, 1, 0, 2, 2,\n",
       "       3, 0, 3, 3, 2, 1, 3, 0, 0, 2, 1, 3, 2, 0, 1, 2, 2, 0, 2, 3, 2, 0,\n",
       "       0, 3, 3, 0, 3, 0, 0, 2, 0, 1, 2, 2, 2, 3, 0, 3, 2, 3, 3, 3, 3, 2,\n",
       "       2, 2, 0, 3, 1, 3, 3, 0, 2, 3, 1, 3, 3, 3, 0, 0, 3, 3, 0, 0, 2, 3,\n",
       "       1, 1, 1, 2], dtype=int64)"
      ]
     },
     "execution_count": 79,
     "metadata": {},
     "output_type": "execute_result"
    }
   ],
   "source": [
    "y_pred_LR=LR.predict(x_test)\n",
    "y_pred_LR"
   ]
  },
  {
   "cell_type": "code",
   "execution_count": 80,
   "id": "8b9de3f4",
   "metadata": {},
   "outputs": [
    {
     "data": {
      "text/plain": [
       "1860    0\n",
       "353     2\n",
       "1333    1\n",
       "905     3\n",
       "1289    1\n",
       "       ..\n",
       "965     3\n",
       "1284    2\n",
       "1739    1\n",
       "261     1\n",
       "535     2\n",
       "Name: price_range, Length: 400, dtype: int64"
      ]
     },
     "execution_count": 80,
     "metadata": {},
     "output_type": "execute_result"
    }
   ],
   "source": [
    "y_test"
   ]
  },
  {
   "cell_type": "code",
   "execution_count": 81,
   "id": "ef3d990b",
   "metadata": {},
   "outputs": [
    {
     "data": {
      "text/plain": [
       "array([1, 2, 0, ..., 2, 3, 0], dtype=int64)"
      ]
     },
     "execution_count": 81,
     "metadata": {},
     "output_type": "execute_result"
    }
   ],
   "source": [
    "#getting predicted data fro training \n",
    "y_pred_train=LR.predict(x_train)\n",
    "y_pred_train"
   ]
  },
  {
   "cell_type": "code",
   "execution_count": 82,
   "id": "46c417c6",
   "metadata": {},
   "outputs": [
    {
     "data": {
      "text/plain": [
       "0.8525"
      ]
     },
     "execution_count": 82,
     "metadata": {},
     "output_type": "execute_result"
    }
   ],
   "source": [
    "#accuracy score for Logistic regression algorithm\n",
    "acc_LR=accuracy_score(y_test,y_pred_LR)\n",
    "acc_LR"
   ]
  },
  {
   "cell_type": "code",
   "execution_count": 83,
   "id": "b37bd8c7",
   "metadata": {},
   "outputs": [
    {
     "name": "stdout",
     "output_type": "stream",
     "text": [
      "              precision    recall  f1-score   support\n",
      "\n",
      "           0       0.92      0.98      0.95       105\n",
      "           1       0.85      0.73      0.78        91\n",
      "           2       0.76      0.71      0.73        92\n",
      "           3       0.86      0.96      0.91       112\n",
      "\n",
      "    accuracy                           0.85       400\n",
      "   macro avg       0.85      0.84      0.84       400\n",
      "weighted avg       0.85      0.85      0.85       400\n",
      "\n"
     ]
    }
   ],
   "source": [
    "#classification report for Logisic regression alg\n",
    "print(classification_report(y_test,y_pred_LR))"
   ]
  },
  {
   "cell_type": "code",
   "execution_count": 84,
   "id": "2c62da5f",
   "metadata": {},
   "outputs": [],
   "source": [
    "param=[\n",
    "    {'penalty':['l1','l2','elasticnet','none'],\n",
    "     'C' : [1, 10, 100, 0.1, 0.001],\n",
    "     'solver' : ['lbfgs','liblinear','sag','saga']\n",
    "        \n",
    "    }\n",
    "]"
   ]
  },
  {
   "cell_type": "code",
   "execution_count": 85,
   "id": "79d13e60",
   "metadata": {},
   "outputs": [],
   "source": [
    "from sklearn.model_selection import GridSearchCV\n",
    "grid_LR=GridSearchCV(LR,param_grid=param,cv=10,n_jobs=-1)"
   ]
  },
  {
   "cell_type": "code",
   "execution_count": 86,
   "id": "3bca1813",
   "metadata": {},
   "outputs": [
    {
     "data": {
      "text/plain": [
       "GridSearchCV(cv=10, estimator=LogisticRegression(), n_jobs=-1,\n",
       "             param_grid=[{'C': [1, 10, 100, 0.1, 0.001],\n",
       "                          'penalty': ['l1', 'l2', 'elasticnet', 'none'],\n",
       "                          'solver': ['lbfgs', 'liblinear', 'sag', 'saga']}])"
      ]
     },
     "execution_count": 86,
     "metadata": {},
     "output_type": "execute_result"
    }
   ],
   "source": [
    "grid_LR.fit(x_train,y_train)"
   ]
  },
  {
   "cell_type": "code",
   "execution_count": 87,
   "id": "7aabbd4b",
   "metadata": {},
   "outputs": [
    {
     "data": {
      "text/plain": [
       "LogisticRegression(C=1, penalty='l1', solver='saga')"
      ]
     },
     "execution_count": 87,
     "metadata": {},
     "output_type": "execute_result"
    }
   ],
   "source": [
    "grid_LR.best_estimator_"
   ]
  },
  {
   "cell_type": "code",
   "execution_count": 88,
   "id": "5c38b1df",
   "metadata": {},
   "outputs": [
    {
     "data": {
      "text/plain": [
       "{'C': 1, 'penalty': 'l1', 'solver': 'saga'}"
      ]
     },
     "execution_count": 88,
     "metadata": {},
     "output_type": "execute_result"
    }
   ],
   "source": [
    "grid_LR.best_params_"
   ]
  },
  {
   "cell_type": "code",
   "execution_count": 89,
   "id": "4d44d244",
   "metadata": {},
   "outputs": [],
   "source": [
    "## Applying best parameters for logistic regression\n",
    "\n",
    "LoR=LogisticRegression(C=1, penalty='l1', solver='saga')"
   ]
  },
  {
   "cell_type": "code",
   "execution_count": 90,
   "id": "16de610e",
   "metadata": {},
   "outputs": [
    {
     "data": {
      "text/plain": [
       "LogisticRegression(C=1, penalty='l1', solver='saga')"
      ]
     },
     "execution_count": 90,
     "metadata": {},
     "output_type": "execute_result"
    }
   ],
   "source": [
    "LoR.fit(x_train,y_train)"
   ]
  },
  {
   "cell_type": "code",
   "execution_count": 91,
   "id": "0f3db820",
   "metadata": {},
   "outputs": [],
   "source": [
    "y_LoR=LoR.predict(x_test)"
   ]
  },
  {
   "cell_type": "code",
   "execution_count": 92,
   "id": "5a3f9ef7",
   "metadata": {},
   "outputs": [
    {
     "name": "stdout",
     "output_type": "stream",
     "text": [
      "              precision    recall  f1-score   support\n",
      "\n",
      "           0       0.99      0.98      0.99       105\n",
      "           1       0.97      0.98      0.97        91\n",
      "           2       0.97      0.98      0.97        92\n",
      "           3       0.99      0.98      0.99       112\n",
      "\n",
      "    accuracy                           0.98       400\n",
      "   macro avg       0.98      0.98      0.98       400\n",
      "weighted avg       0.98      0.98      0.98       400\n",
      "\n"
     ]
    }
   ],
   "source": [
    "print(classification_report(y_test,y_LoR))"
   ]
  },
  {
   "cell_type": "code",
   "execution_count": 93,
   "id": "33606ee0",
   "metadata": {},
   "outputs": [
    {
     "data": {
      "text/plain": [
       "0.98"
      ]
     },
     "execution_count": 93,
     "metadata": {},
     "output_type": "execute_result"
    }
   ],
   "source": [
    "## test acc\n",
    "lor_acc=accuracy_score(y_test,y_LoR)#testing accuracy \n",
    "lor_acc"
   ]
  },
  {
   "cell_type": "code",
   "execution_count": 94,
   "id": "b570a1d6",
   "metadata": {},
   "outputs": [
    {
     "data": {
      "text/plain": [
       "0.9800331780620185"
      ]
     },
     "execution_count": 94,
     "metadata": {},
     "output_type": "execute_result"
    }
   ],
   "source": [
    "## test score\n",
    "LoR_f1=f1_score(y_test,y_LoR,average='weighted')#f1 score\n",
    "LoR_f1"
   ]
  },
  {
   "cell_type": "code",
   "execution_count": 95,
   "id": "b065f2f7",
   "metadata": {},
   "outputs": [
    {
     "data": {
      "text/html": [
       "<div>\n",
       "<style scoped>\n",
       "    .dataframe tbody tr th:only-of-type {\n",
       "        vertical-align: middle;\n",
       "    }\n",
       "\n",
       "    .dataframe tbody tr th {\n",
       "        vertical-align: top;\n",
       "    }\n",
       "\n",
       "    .dataframe thead th {\n",
       "        text-align: right;\n",
       "    }\n",
       "</style>\n",
       "<table border=\"1\" class=\"dataframe\">\n",
       "  <thead>\n",
       "    <tr style=\"text-align: right;\">\n",
       "      <th>col_0</th>\n",
       "      <th>0</th>\n",
       "      <th>1</th>\n",
       "      <th>2</th>\n",
       "      <th>3</th>\n",
       "    </tr>\n",
       "    <tr>\n",
       "      <th>price_range</th>\n",
       "      <th></th>\n",
       "      <th></th>\n",
       "      <th></th>\n",
       "      <th></th>\n",
       "    </tr>\n",
       "  </thead>\n",
       "  <tbody>\n",
       "    <tr>\n",
       "      <th>0</th>\n",
       "      <td>103</td>\n",
       "      <td>2</td>\n",
       "      <td>0</td>\n",
       "      <td>0</td>\n",
       "    </tr>\n",
       "    <tr>\n",
       "      <th>1</th>\n",
       "      <td>1</td>\n",
       "      <td>89</td>\n",
       "      <td>1</td>\n",
       "      <td>0</td>\n",
       "    </tr>\n",
       "    <tr>\n",
       "      <th>2</th>\n",
       "      <td>0</td>\n",
       "      <td>1</td>\n",
       "      <td>90</td>\n",
       "      <td>1</td>\n",
       "    </tr>\n",
       "    <tr>\n",
       "      <th>3</th>\n",
       "      <td>0</td>\n",
       "      <td>0</td>\n",
       "      <td>2</td>\n",
       "      <td>110</td>\n",
       "    </tr>\n",
       "  </tbody>\n",
       "</table>\n",
       "</div>"
      ],
      "text/plain": [
       "col_0          0   1   2    3\n",
       "price_range                  \n",
       "0            103   2   0    0\n",
       "1              1  89   1    0\n",
       "2              0   1  90    1\n",
       "3              0   0   2  110"
      ]
     },
     "execution_count": 95,
     "metadata": {},
     "output_type": "execute_result"
    }
   ],
   "source": [
    "pd.crosstab(y_test,y_LoR)# confusion matrix "
   ]
  },
  {
   "cell_type": "markdown",
   "id": "9ef05a24",
   "metadata": {},
   "source": [
    "### After hyper parameter tuning the f1_score is changed from 0.85 to 0.98"
   ]
  },
  {
   "cell_type": "markdown",
   "id": "48751f70",
   "metadata": {},
   "source": [
    "## KNN"
   ]
  },
  {
   "cell_type": "code",
   "execution_count": 96,
   "id": "d57b5faa",
   "metadata": {},
   "outputs": [
    {
     "name": "stdout",
     "output_type": "stream",
     "text": [
      "0.5325\n"
     ]
    }
   ],
   "source": [
    "## KNN ALGORITHM\n",
    "## taking optimal k to determine how many nearest neighbors  to create\n",
    "from sklearn.neighbors import KNeighborsClassifier\n",
    "\n",
    "# create a list to store the error values for each k\n",
    "error_rate = []\n",
    "\n",
    "# Will take some time\n",
    "for i in range(1,23):\n",
    "    knn = KNeighborsClassifier(n_neighbors=i)\n",
    "    knn.fit(x_train,y_train)\n",
    "    pred_i = knn.predict(x_test)\n",
    "    error_rate.append(np.mean(pred_i != y_test)) \n",
    "print(np.mean(pred_i != y_test))"
   ]
  },
  {
   "cell_type": "code",
   "execution_count": 97,
   "id": "3956e462",
   "metadata": {},
   "outputs": [
    {
     "data": {
      "text/plain": [
       "Text(0, 0.5, 'Error Rate')"
      ]
     },
     "execution_count": 97,
     "metadata": {},
     "output_type": "execute_result"
    },
    {
     "data": {
      "image/png": "[encoded data removed]",
      "text/plain": [
       "<Figure size 720x432 with 1 Axes>"
      ]
     },
     "metadata": {
      "needs_background": "light"
     },
     "output_type": "display_data"
    }
   ],
   "source": [
    "# The k-value and error rate\n",
    "\n",
    "plt.figure(figsize=(10,6))\n",
    "plt.plot(range(1,23),error_rate,color='blue', linestyle='dashed', \n",
    "         marker='o',markerfacecolor='red', markersize=10)\n",
    "plt.title('Error Rate vs. K Value')\n",
    "plt.xlabel('K')\n",
    "plt.ylabel('Error Rate')"
   ]
  },
  {
   "cell_type": "code",
   "execution_count": 98,
   "id": "7a435d83",
   "metadata": {},
   "outputs": [
    {
     "data": {
      "text/plain": [
       "array([0, 0, 1, 2, 1, 0, 1, 0, 2, 1, 1, 0, 1, 3, 1, 3, 1, 3, 0, 0, 0, 1,\n",
       "       0, 3, 0, 3, 2, 2, 2, 0, 0, 0, 2, 1, 0, 3, 2, 0, 2, 0, 1, 3, 2, 0,\n",
       "       2, 2, 1, 2, 3, 1, 3, 2, 1, 0, 1, 2, 0, 3, 0, 1, 0, 3, 1, 2, 0, 1,\n",
       "       2, 3, 2, 1, 1, 3, 0, 2, 3, 1, 1, 2, 3, 2, 3, 0, 1, 1, 3, 3, 0, 3,\n",
       "       3, 0, 2, 2, 3, 1, 3, 1, 1, 3, 2, 3, 0, 1, 2, 1, 0, 3, 1, 0, 0, 1,\n",
       "       0, 0, 3, 1, 1, 1, 3, 2, 0, 1, 0, 2, 3, 2, 2, 1, 1, 2, 1, 1, 1, 3,\n",
       "       3, 2, 1, 2, 1, 1, 0, 2, 1, 0, 0, 1, 1, 0, 3, 0, 1, 2, 3, 2, 3, 0,\n",
       "       2, 2, 2, 2, 1, 1, 1, 2, 3, 3, 1, 1, 0, 2, 3, 2, 1, 1, 1, 0, 2, 0,\n",
       "       0, 1, 1, 1, 0, 2, 0, 2, 2, 3, 1, 3, 0, 0, 1, 2, 0, 3, 3, 1, 1, 1,\n",
       "       1, 1, 2, 1, 0, 3, 2, 1, 0, 1, 0, 0, 1, 1, 2, 2, 1, 0, 0, 2, 2, 1,\n",
       "       2, 1, 2, 0, 0, 2, 0, 2, 0, 0, 2, 0, 3, 2, 2, 0, 1, 3, 1, 0, 2, 3,\n",
       "       2, 3, 0, 2, 1, 3, 3, 3, 3, 0, 2, 2, 3, 1, 3, 2, 3, 2, 2, 0, 1, 2,\n",
       "       1, 0, 3, 0, 2, 3, 3, 3, 1, 2, 0, 2, 1, 1, 3, 1, 3, 1, 0, 3, 0, 1,\n",
       "       0, 1, 2, 1, 1, 1, 2, 2, 1, 1, 0, 1, 2, 2, 2, 0, 0, 1, 2, 0, 2, 3,\n",
       "       1, 3, 2, 2, 1, 0, 0, 0, 1, 1, 0, 0, 0, 2, 3, 3, 1, 0, 2, 0, 1, 1,\n",
       "       3, 0, 2, 2, 2, 2, 1, 0, 0, 1, 0, 3, 2, 0, 2, 2, 1, 1, 1, 3, 1, 0,\n",
       "       2, 1, 3, 0, 1, 1, 0, 3, 0, 0, 1, 1, 3, 1, 1, 1, 2, 2, 3, 3, 2, 3,\n",
       "       2, 1, 1, 3, 3, 2, 2, 0, 2, 3, 1, 3, 3, 3, 2, 0, 2, 3, 0, 0, 2, 2,\n",
       "       0, 0, 0, 2], dtype=int64)"
      ]
     },
     "execution_count": 98,
     "metadata": {},
     "output_type": "execute_result"
    }
   ],
   "source": [
    "knn = KNeighborsClassifier(n_neighbors=23)\n",
    "knn.fit(x_train,y_train)\n",
    "y_pred_KNN = knn.predict(x_test)\n",
    "y_pred_KNN"
   ]
  },
  {
   "cell_type": "code",
   "execution_count": 99,
   "id": "44d1272c",
   "metadata": {},
   "outputs": [
    {
     "name": "stdout",
     "output_type": "stream",
     "text": [
      "The accuracy score is :  0.46\n"
     ]
    }
   ],
   "source": [
    "#accuracy score for KNN algorithm\n",
    "print(\"The accuracy score is : \", accuracy_score(y_test,y_pred_KNN))"
   ]
  },
  {
   "cell_type": "code",
   "execution_count": 100,
   "id": "bd7ccc8f",
   "metadata": {},
   "outputs": [
    {
     "name": "stdout",
     "output_type": "stream",
     "text": [
      "              precision    recall  f1-score   support\n",
      "\n",
      "           0       0.65      0.63      0.64       105\n",
      "           1       0.30      0.38      0.34        91\n",
      "           2       0.30      0.34      0.32        92\n",
      "           3       0.66      0.46      0.54       112\n",
      "\n",
      "    accuracy                           0.46       400\n",
      "   macro avg       0.48      0.45      0.46       400\n",
      "weighted avg       0.49      0.46      0.47       400\n",
      "\n"
     ]
    }
   ],
   "source": [
    "#classification report for KNN algorithm\n",
    "print(classification_report(y_test,y_pred_KNN))"
   ]
  },
  {
   "cell_type": "code",
   "execution_count": 101,
   "id": "f1008225",
   "metadata": {},
   "outputs": [],
   "source": [
    "## Applying Hyper parameter tunning to KNN\n",
    "\n",
    "grid_params = { 'n_neighbors' : [5,7,9,11,13,15],\n",
    "               'weights' : ['uniform','distance'],\n",
    "               'metric' : ['minkowski','euclidean','manhattan']}\n",
    "\n",
    "from sklearn.model_selection import GridSearchCV\n",
    "KNN_gs = GridSearchCV(knn, grid_params, verbose = 1, cv=3, n_jobs = -1)\n"
   ]
  },
  {
   "cell_type": "code",
   "execution_count": 102,
   "id": "58b8217e",
   "metadata": {},
   "outputs": [
    {
     "name": "stdout",
     "output_type": "stream",
     "text": [
      "Fitting 3 folds for each of 36 candidates, totalling 108 fits\n"
     ]
    },
    {
     "data": {
      "text/plain": [
       "GridSearchCV(cv=3, estimator=KNeighborsClassifier(n_neighbors=23), n_jobs=-1,\n",
       "             param_grid={'metric': ['minkowski', 'euclidean', 'manhattan'],\n",
       "                         'n_neighbors': [5, 7, 9, 11, 13, 15],\n",
       "                         'weights': ['uniform', 'distance']},\n",
       "             verbose=1)"
      ]
     },
     "execution_count": 102,
     "metadata": {},
     "output_type": "execute_result"
    }
   ],
   "source": [
    "KNN_gs.fit(x_train,y_train)"
   ]
  },
  {
   "cell_type": "code",
   "execution_count": 103,
   "id": "9fced0ac",
   "metadata": {},
   "outputs": [
    {
     "data": {
      "text/plain": [
       "KNeighborsClassifier(metric='manhattan', n_neighbors=15, weights='distance')"
      ]
     },
     "execution_count": 103,
     "metadata": {},
     "output_type": "execute_result"
    }
   ],
   "source": [
    "KNN_gs.best_estimator_"
   ]
  },
  {
   "cell_type": "code",
   "execution_count": 104,
   "id": "888df4df",
   "metadata": {},
   "outputs": [
    {
     "data": {
      "text/plain": [
       "{'metric': 'manhattan', 'n_neighbors': 15, 'weights': 'distance'}"
      ]
     },
     "execution_count": 104,
     "metadata": {},
     "output_type": "execute_result"
    }
   ],
   "source": [
    "KNN_gs.best_params_"
   ]
  },
  {
   "cell_type": "code",
   "execution_count": 105,
   "id": "32a39d16",
   "metadata": {},
   "outputs": [
    {
     "data": {
      "text/plain": [
       "{'metric': 'manhattan', 'n_neighbors': 15, 'weights': 'distance'}"
      ]
     },
     "execution_count": 105,
     "metadata": {},
     "output_type": "execute_result"
    }
   ],
   "source": [
    "knn_ht=KNeighborsClassifier(metric='manhattan', n_neighbors=15, weights='distance')\n",
    "KNN_gs.best_params_"
   ]
  },
  {
   "cell_type": "code",
   "execution_count": 106,
   "id": "81f05181",
   "metadata": {},
   "outputs": [
    {
     "data": {
      "text/plain": [
       "KNeighborsClassifier(metric='manhattan', n_neighbors=15, weights='distance')"
      ]
     },
     "execution_count": 106,
     "metadata": {},
     "output_type": "execute_result"
    }
   ],
   "source": [
    "knn_ht.fit(x_train,y_train)"
   ]
  },
  {
   "cell_type": "code",
   "execution_count": 107,
   "id": "bfcc86c7",
   "metadata": {},
   "outputs": [],
   "source": [
    "y_knn=knn_ht.predict(x_test)"
   ]
  },
  {
   "cell_type": "code",
   "execution_count": 108,
   "id": "05ead74f",
   "metadata": {},
   "outputs": [
    {
     "name": "stdout",
     "output_type": "stream",
     "text": [
      "              precision    recall  f1-score   support\n",
      "\n",
      "           0       0.72      0.62      0.67       105\n",
      "           1       0.39      0.40      0.39        91\n",
      "           2       0.36      0.43      0.39        92\n",
      "           3       0.72      0.68      0.70       112\n",
      "\n",
      "    accuracy                           0.54       400\n",
      "   macro avg       0.55      0.53      0.54       400\n",
      "weighted avg       0.56      0.54      0.55       400\n",
      "\n"
     ]
    }
   ],
   "source": [
    "from sklearn.metrics import accuracy_score,classification_report,f1_score\n",
    "\n",
    "print(classification_report(y_test,y_knn))\n"
   ]
  },
  {
   "cell_type": "code",
   "execution_count": 109,
   "id": "e26d8435",
   "metadata": {},
   "outputs": [
    {
     "data": {
      "text/plain": [
       "0.5499336329508491"
      ]
     },
     "execution_count": 109,
     "metadata": {},
     "output_type": "execute_result"
    }
   ],
   "source": [
    "f1_score=f1_score(y_test,y_knn,average='weighted')\n",
    "f1_score"
   ]
  },
  {
   "cell_type": "markdown",
   "id": "7bbac7b0",
   "metadata": {},
   "source": [
    "### After hyper parameter tuning the f1_score of KNN algorithm changes from 0.47 to 0.55"
   ]
  },
  {
   "cell_type": "markdown",
   "id": "c4c48ddc",
   "metadata": {},
   "source": [
    "## Random forest algorithm"
   ]
  },
  {
   "cell_type": "code",
   "execution_count": 110,
   "id": "cf9f929c",
   "metadata": {},
   "outputs": [
    {
     "data": {
      "text/plain": [
       "RandomForestClassifier()"
      ]
     },
     "execution_count": 110,
     "metadata": {},
     "output_type": "execute_result"
    }
   ],
   "source": [
    "#random forest algorithm\n",
    "from sklearn.ensemble import RandomForestClassifier\n",
    "\n",
    "rf_clf = RandomForestClassifier(n_estimators=100)\n",
    "rf_clf.fit(x_train,y_train)"
   ]
  },
  {
   "cell_type": "code",
   "execution_count": 111,
   "id": "96d0a107",
   "metadata": {},
   "outputs": [
    {
     "data": {
      "text/plain": [
       "array([0, 2, 1, 3, 1, 2, 2, 0, 3, 1, 0, 1, 2, 3, 2, 2, 3, 3, 1, 0, 0, 1,\n",
       "       1, 2, 0, 1, 3, 2, 2, 0, 0, 0, 3, 0, 1, 1, 2, 0, 3, 0, 2, 3, 2, 0,\n",
       "       3, 3, 1, 1, 3, 1, 3, 1, 0, 0, 1, 1, 1, 2, 0, 0, 1, 3, 3, 1, 0, 0,\n",
       "       3, 3, 1, 2, 2, 3, 0, 1, 2, 0, 0, 3, 2, 1, 3, 2, 1, 0, 1, 3, 2, 3,\n",
       "       3, 0, 3, 3, 2, 1, 3, 2, 2, 3, 1, 1, 0, 0, 1, 0, 0, 3, 2, 0, 1, 1,\n",
       "       0, 0, 3, 1, 3, 2, 3, 3, 0, 2, 1, 3, 2, 1, 3, 3, 0, 3, 0, 2, 3, 0,\n",
       "       2, 2, 0, 3, 1, 0, 1, 2, 3, 0, 2, 2, 0, 0, 0, 1, 2, 2, 3, 1, 1, 0,\n",
       "       2, 2, 0, 1, 0, 2, 2, 3, 2, 3, 1, 0, 0, 2, 2, 3, 3, 1, 1, 0, 3, 1,\n",
       "       2, 2, 1, 0, 0, 0, 0, 0, 3, 2, 0, 3, 0, 0, 0, 0, 1, 3, 3, 1, 0, 1,\n",
       "       2, 1, 1, 2, 2, 2, 3, 3, 1, 2, 0, 0, 0, 2, 1, 1, 3, 1, 0, 2, 2, 1,\n",
       "       3, 1, 3, 0, 0, 2, 1, 2, 0, 0, 2, 0, 1, 3, 2, 1, 1, 3, 3, 0, 1, 3,\n",
       "       2, 3, 0, 3, 1, 2, 3, 3, 2, 1, 1, 3, 3, 1, 3, 3, 3, 3, 3, 0, 1, 2,\n",
       "       2, 2, 2, 0, 2, 3, 2, 2, 2, 1, 0, 2, 0, 2, 3, 1, 3, 1, 0, 3, 1, 2,\n",
       "       0, 0, 3, 0, 1, 2, 3, 3, 3, 0, 1, 0, 1, 3, 3, 0, 1, 1, 2, 0, 3, 3,\n",
       "       2, 3, 1, 3, 2, 0, 2, 1, 1, 1, 0, 0, 0, 3, 2, 3, 1, 0, 1, 0, 2, 2,\n",
       "       3, 0, 3, 3, 2, 1, 3, 0, 0, 3, 1, 3, 2, 0, 1, 1, 2, 1, 1, 3, 2, 0,\n",
       "       0, 3, 3, 0, 3, 0, 0, 2, 0, 0, 2, 2, 2, 3, 0, 3, 2, 2, 3, 3, 3, 2,\n",
       "       1, 2, 0, 3, 1, 3, 3, 0, 2, 3, 2, 3, 3, 3, 0, 0, 2, 3, 0, 0, 2, 3,\n",
       "       2, 1, 1, 2], dtype=int64)"
      ]
     },
     "execution_count": 111,
     "metadata": {},
     "output_type": "execute_result"
    }
   ],
   "source": [
    "y_pred_Randomforest=rf_clf.predict(x_test)\n",
    "y_pred_Randomforest"
   ]
  },
  {
   "cell_type": "code",
   "execution_count": 112,
   "id": "e01fd55d",
   "metadata": {},
   "outputs": [
    {
     "name": "stdout",
     "output_type": "stream",
     "text": [
      "The accuracy score is :  0.89\n"
     ]
    }
   ],
   "source": [
    "#accuracy score for Random Forest algorithm\n",
    "print(\"The accuracy score is : \", accuracy_score(y_test,y_pred_Randomforest))"
   ]
  },
  {
   "cell_type": "code",
   "execution_count": 113,
   "id": "05696036",
   "metadata": {},
   "outputs": [
    {
     "name": "stdout",
     "output_type": "stream",
     "text": [
      "              precision    recall  f1-score   support\n",
      "\n",
      "           0       0.94      0.94      0.94       105\n",
      "           1       0.86      0.85      0.85        91\n",
      "           2       0.81      0.85      0.83        92\n",
      "           3       0.94      0.91      0.92       112\n",
      "\n",
      "    accuracy                           0.89       400\n",
      "   macro avg       0.89      0.89      0.89       400\n",
      "weighted avg       0.89      0.89      0.89       400\n",
      "\n"
     ]
    }
   ],
   "source": [
    "#classification report for Randomforest algorithm\n",
    "print(classification_report(y_test,y_pred_Randomforest))"
   ]
  },
  {
   "cell_type": "markdown",
   "id": "b6a3a87d",
   "metadata": {},
   "source": [
    "## Hyper parameter tuning of random forest "
   ]
  },
  {
   "cell_type": "code",
   "execution_count": 114,
   "id": "e53765ce",
   "metadata": {},
   "outputs": [],
   "source": [
    "## Hyper parameter tuning of random forest \n",
    "\n",
    "from sklearn.model_selection import RandomizedSearchCV\n",
    "# Number of trees in random forest\n",
    "n_estimators = [int(x) for x in np.linspace(start = 200, stop = 2000, num = 10)]\n",
    "# Number of features to consider at every split\n",
    "max_features = ['auto', 'sqrt']\n",
    "# Maximum number of levels in tree\n",
    "max_depth = [int(x) for x in np.linspace(10, 110, num = 11)]\n",
    "max_depth.append(None)\n",
    "# Minimum number of samples required to split a node\n",
    "min_samples_split = [2, 5, 10]\n",
    "# Minimum number of samples required at each leaf node\n",
    "min_samples_leaf = [1, 2, 4]\n",
    "# Method of selecting samples for training each tree\n",
    "bootstrap = [True, False]\n",
    "# Create the random grid\n",
    "random_grid = {'n_estimators': n_estimators,\n",
    "               'max_features': max_features,\n",
    "               'max_depth': max_depth,\n",
    "               'min_samples_split': min_samples_split,\n",
    "               'min_samples_leaf': min_samples_leaf,\n",
    "               'bootstrap': bootstrap}"
   ]
  },
  {
   "cell_type": "code",
   "execution_count": 115,
   "id": "2ca998f6",
   "metadata": {},
   "outputs": [],
   "source": [
    "\n",
    "# Random search of parameters, using 3 fold cross validation, \n",
    "# search across 100 different combinations, and use all available cores\n",
    "rf_random = RandomizedSearchCV(estimator = rf_clf, param_distributions = random_grid, n_iter = 100, cv = 3,\n",
    "                               verbose=2, random_state=42, n_jobs = -1)"
   ]
  },
  {
   "cell_type": "code",
   "execution_count": 116,
   "id": "50710da6",
   "metadata": {},
   "outputs": [
    {
     "name": "stdout",
     "output_type": "stream",
     "text": [
      "Fitting 3 folds for each of 100 candidates, totalling 300 fits\n"
     ]
    },
    {
     "data": {
      "text/plain": [
       "RandomizedSearchCV(cv=3, estimator=RandomForestClassifier(), n_iter=100,\n",
       "                   n_jobs=-1,\n",
       "                   param_distributions={'bootstrap': [True, False],\n",
       "                                        'max_depth': [10, 20, 30, 40, 50, 60,\n",
       "                                                      70, 80, 90, 100, 110,\n",
       "                                                      None],\n",
       "                                        'max_features': ['auto', 'sqrt'],\n",
       "                                        'min_samples_leaf': [1, 2, 4],\n",
       "                                        'min_samples_split': [2, 5, 10],\n",
       "                                        'n_estimators': [200, 400, 600, 800,\n",
       "                                                         1000, 1200, 1400, 1600,\n",
       "                                                         1800, 2000]},\n",
       "                   random_state=42, verbose=2)"
      ]
     },
     "execution_count": 116,
     "metadata": {},
     "output_type": "execute_result"
    }
   ],
   "source": [
    "# Fit the random search model\n",
    "rf_random.fit(x_train,y_train)"
   ]
  },
  {
   "cell_type": "code",
   "execution_count": 117,
   "id": "3db7e5b8",
   "metadata": {},
   "outputs": [
    {
     "data": {
      "text/plain": [
       "RandomForestClassifier(bootstrap=False, max_depth=50, n_estimators=1000)"
      ]
     },
     "execution_count": 117,
     "metadata": {},
     "output_type": "execute_result"
    }
   ],
   "source": [
    "rf_random.best_estimator_"
   ]
  },
  {
   "cell_type": "code",
   "execution_count": 118,
   "id": "5aa8701b",
   "metadata": {},
   "outputs": [],
   "source": [
    "## Applying best parameters\n",
    "rf_clf = RandomForestClassifier(max_depth=50, max_features='sqrt', n_estimators=200)"
   ]
  },
  {
   "cell_type": "code",
   "execution_count": 119,
   "id": "f6a50b55",
   "metadata": {},
   "outputs": [],
   "source": [
    "y_rf_predict=rf_random.predict(x_test)"
   ]
  },
  {
   "cell_type": "code",
   "execution_count": 120,
   "id": "33169d3d",
   "metadata": {},
   "outputs": [
    {
     "data": {
      "text/plain": [
       "0.8944497481076429"
      ]
     },
     "execution_count": 120,
     "metadata": {},
     "output_type": "execute_result"
    }
   ],
   "source": [
    "from sklearn.metrics import f1_score\n",
    "\n",
    "f1_score=f1_score(y_rf_predict,y_test,average='weighted')#checking performance\n",
    "f1_score"
   ]
  },
  {
   "cell_type": "code",
   "execution_count": 121,
   "id": "73ba913a",
   "metadata": {},
   "outputs": [
    {
     "name": "stdout",
     "output_type": "stream",
     "text": [
      "              precision    recall  f1-score   support\n",
      "\n",
      "           0       0.95      0.94      0.95       105\n",
      "           1       0.87      0.87      0.87        91\n",
      "           2       0.81      0.86      0.84        92\n",
      "           3       0.94      0.90      0.92       112\n",
      "\n",
      "    accuracy                           0.90       400\n",
      "   macro avg       0.89      0.89      0.89       400\n",
      "weighted avg       0.90      0.90      0.90       400\n",
      "\n"
     ]
    }
   ],
   "source": [
    "print(classification_report(y_test,y_rf_predict))"
   ]
  },
  {
   "cell_type": "code",
   "execution_count": 122,
   "id": "c364fc7e",
   "metadata": {},
   "outputs": [
    {
     "data": {
      "text/html": [
       "<div>\n",
       "<style scoped>\n",
       "    .dataframe tbody tr th:only-of-type {\n",
       "        vertical-align: middle;\n",
       "    }\n",
       "\n",
       "    .dataframe tbody tr th {\n",
       "        vertical-align: top;\n",
       "    }\n",
       "\n",
       "    .dataframe thead th {\n",
       "        text-align: right;\n",
       "    }\n",
       "</style>\n",
       "<table border=\"1\" class=\"dataframe\">\n",
       "  <thead>\n",
       "    <tr style=\"text-align: right;\">\n",
       "      <th>col_0</th>\n",
       "      <th>0</th>\n",
       "      <th>1</th>\n",
       "      <th>2</th>\n",
       "      <th>3</th>\n",
       "    </tr>\n",
       "    <tr>\n",
       "      <th>price_range</th>\n",
       "      <th></th>\n",
       "      <th></th>\n",
       "      <th></th>\n",
       "      <th></th>\n",
       "    </tr>\n",
       "  </thead>\n",
       "  <tbody>\n",
       "    <tr>\n",
       "      <th>0</th>\n",
       "      <td>99</td>\n",
       "      <td>6</td>\n",
       "      <td>0</td>\n",
       "      <td>0</td>\n",
       "    </tr>\n",
       "    <tr>\n",
       "      <th>1</th>\n",
       "      <td>5</td>\n",
       "      <td>79</td>\n",
       "      <td>7</td>\n",
       "      <td>0</td>\n",
       "    </tr>\n",
       "    <tr>\n",
       "      <th>2</th>\n",
       "      <td>0</td>\n",
       "      <td>6</td>\n",
       "      <td>79</td>\n",
       "      <td>7</td>\n",
       "    </tr>\n",
       "    <tr>\n",
       "      <th>3</th>\n",
       "      <td>0</td>\n",
       "      <td>0</td>\n",
       "      <td>11</td>\n",
       "      <td>101</td>\n",
       "    </tr>\n",
       "  </tbody>\n",
       "</table>\n",
       "</div>"
      ],
      "text/plain": [
       "col_0         0   1   2    3\n",
       "price_range                 \n",
       "0            99   6   0    0\n",
       "1             5  79   7    0\n",
       "2             0   6  79    7\n",
       "3             0   0  11  101"
      ]
     },
     "execution_count": 122,
     "metadata": {},
     "output_type": "execute_result"
    }
   ],
   "source": [
    "from sklearn.metrics import confusion_matrix\n",
    "pd.crosstab(y_test,y_rf_predict)"
   ]
  },
  {
   "cell_type": "markdown",
   "id": "d73879a5",
   "metadata": {},
   "source": [
    "### There is not much change. After hyper parameter tuning the f1_score for Random forest changes from 0.88 to 0.89"
   ]
  },
  {
   "cell_type": "markdown",
   "id": "46e66391",
   "metadata": {},
   "source": [
    "## Gradient boost  algorithm"
   ]
  },
  {
   "cell_type": "code",
   "execution_count": 123,
   "id": "948fe795",
   "metadata": {},
   "outputs": [],
   "source": [
    "## importing Gradient boost  algorithm\n",
    "from sklearn.ensemble import GradientBoostingClassifier\n",
    "gbm=GradientBoostingClassifier() ## object creation\n",
    "gbm.fit(x_train,y_train) ## fitting the data\n",
    "y_gbm=gbm.predict(x_test)#predicting the price"
   ]
  },
  {
   "cell_type": "code",
   "execution_count": 124,
   "id": "6e643f35",
   "metadata": {},
   "outputs": [
    {
     "data": {
      "text/plain": [
       "0.9125"
      ]
     },
     "execution_count": 124,
     "metadata": {},
     "output_type": "execute_result"
    }
   ],
   "source": [
    "#accuracy score for Gradient Boost algorithm\n",
    "accu_GB=accuracy_score(y_test,y_gbm)\n",
    "accu_GB"
   ]
  },
  {
   "cell_type": "code",
   "execution_count": 125,
   "id": "aaecccce",
   "metadata": {},
   "outputs": [
    {
     "name": "stdout",
     "output_type": "stream",
     "text": [
      "Requirement already satisfied: xgboost in c:\\users\\shree\\anaconda3\\lib\\site-packages (1.6.2)\n",
      "Requirement already satisfied: scipy in c:\\users\\shree\\anaconda3\\lib\\site-packages (from xgboost) (1.7.3)\n",
      "Requirement already satisfied: numpy in c:\\users\\shree\\anaconda3\\lib\\site-packages (from xgboost) (1.21.5)\n"
     ]
    }
   ],
   "source": [
    "!pip3 install xgboost"
   ]
  },
  {
   "cell_type": "code",
   "execution_count": 126,
   "id": "38de9b21",
   "metadata": {},
   "outputs": [],
   "source": [
    "import xgboost"
   ]
  },
  {
   "cell_type": "code",
   "execution_count": 127,
   "id": "2ea8e9e5",
   "metadata": {},
   "outputs": [],
   "source": [
    "## importing XG boost  algorithm\n",
    "from xgboost import XGBClassifier#importing the model library\n",
    "xgb_r=XGBClassifier() ## object creation\n",
    "xgb_r.fit(x_train,y_train)# fitting the data\n",
    "y_hat=xgb_r.predict(x_test)#predicting the price"
   ]
  },
  {
   "cell_type": "code",
   "execution_count": 128,
   "id": "9362b96a",
   "metadata": {},
   "outputs": [
    {
     "name": "stdout",
     "output_type": "stream",
     "text": [
      "              precision    recall  f1-score   support\n",
      "\n",
      "           0       0.96      0.93      0.95       105\n",
      "           1       0.86      0.95      0.90        91\n",
      "           2       0.85      0.86      0.85        92\n",
      "           3       0.94      0.88      0.91       112\n",
      "\n",
      "    accuracy                           0.91       400\n",
      "   macro avg       0.90      0.91      0.90       400\n",
      "weighted avg       0.91      0.91      0.91       400\n",
      "\n"
     ]
    }
   ],
   "source": [
    "#classification report for xgboost algorithm before applying hyper parameter tuning\n",
    "print(classification_report(y_test,y_hat))"
   ]
  },
  {
   "cell_type": "code",
   "execution_count": 129,
   "id": "ab5f7900",
   "metadata": {},
   "outputs": [
    {
     "name": "stdout",
     "output_type": "stream",
     "text": [
      "Fitting 3 folds for each of 100 candidates, totalling 300 fits\n",
      "Best paramters: {'reg_lambda': 1.6, 'reg_alpha': 12.8, 'n_estimators': 50, 'max_depth': 8, 'learning_rate': 0.6, 'gamma': 0})\n"
     ]
    }
   ],
   "source": [
    "#Hyper parameter tuning for XG boost algorithm\n",
    "from sklearn.model_selection import RandomizedSearchCV\n",
    "\n",
    "param_grid = {'gamma': [0,0.1,0.2,0.4,0.8,1.6,3.2,6.4,12.8,25.6,51.2,102.4, 200],\n",
    "              'learning_rate': [0.01, 0.03, 0.06, 0.1, 0.15, 0.2, 0.25, 0.300000012, 0.4, 0.5, 0.6, 0.7],\n",
    "              'max_depth': [5,6,7,8,9,10,11,12,13,14],\n",
    "              'n_estimators': [50,65,80,100,115,130,150],\n",
    "              'reg_alpha': [0,0.1,0.2,0.4,0.8,1.6,3.2,6.4,12.8,25.6,51.2,102.4,200],\n",
    "              'reg_lambda': [0,0.1,0.2,0.4,0.8,1.6,3.2,6.4,12.8,25.6,51.2,102.4,200]}\n",
    "\n",
    "XGB=XGBClassifier(random_state=42,verbosity=0,silent=0)\n",
    "rcv= RandomizedSearchCV(estimator=XGB, scoring='f1',param_distributions=param_grid, n_iter=100, cv=3, \n",
    "                               verbose=2, random_state=42, n_jobs=-1)\n",
    "                               \n",
    "                        \n",
    "rcv.fit(x_train, y_train)##training data on randomsearch cv\n",
    "cv_best_params = rcv.best_params_##it will give you best parameters \n",
    "print(f\"Best paramters: {cv_best_params})\")##printing  best parameters"
   ]
  },
  {
   "cell_type": "code",
   "execution_count": 130,
   "id": "79fb64f5",
   "metadata": {},
   "outputs": [
    {
     "data": {
      "text/plain": [
       "0.8895379559242076"
      ]
     },
     "execution_count": 130,
     "metadata": {},
     "output_type": "execute_result"
    }
   ],
   "source": [
    "XGB2=XGBClassifier(reg_lambda= 1.6, reg_alpha= 12.8, n_estimators=50, max_depth=8, learning_rate=0.6, gamma=0)\n",
    "XGB2.fit(x_train, y_train)#training \n",
    "y_predict=XGB2.predict(x_test)#testing\n",
    "\n",
    "from sklearn.metrics import f1_score\n",
    "f1_score=f1_score(y_predict,y_test,average='weighted')#checking performance\n",
    "f1_score"
   ]
  },
  {
   "cell_type": "code",
   "execution_count": 131,
   "id": "c2cd1b9f",
   "metadata": {},
   "outputs": [
    {
     "name": "stdout",
     "output_type": "stream",
     "text": [
      "              precision    recall  f1-score   support\n",
      "\n",
      "           0       0.95      0.95      0.95       105\n",
      "           1       0.87      0.88      0.87        91\n",
      "           2       0.80      0.84      0.82        92\n",
      "           3       0.93      0.88      0.90       112\n",
      "\n",
      "    accuracy                           0.89       400\n",
      "   macro avg       0.89      0.89      0.89       400\n",
      "weighted avg       0.89      0.89      0.89       400\n",
      "\n"
     ]
    }
   ],
   "source": [
    "#classification report for xg boost afrer applying hyper parameter tuning\n",
    "print(classification_report(y_test,y_predict))"
   ]
  },
  {
   "cell_type": "markdown",
   "id": "9de28e02",
   "metadata": {},
   "source": [
    "## Naive Bayes "
   ]
  },
  {
   "cell_type": "code",
   "execution_count": 132,
   "id": "280efd93",
   "metadata": {},
   "outputs": [],
   "source": [
    "# Initialising the model\n",
    "from sklearn.naive_bayes import MultinomialNB\n",
    "NB = MultinomialNB()"
   ]
  },
  {
   "cell_type": "code",
   "execution_count": 133,
   "id": "2328086a",
   "metadata": {},
   "outputs": [
    {
     "data": {
      "text/plain": [
       "MultinomialNB()"
      ]
     },
     "execution_count": 133,
     "metadata": {},
     "output_type": "execute_result"
    }
   ],
   "source": [
    "# feed data to the model\n",
    "NB.fit(x_train,y_train)"
   ]
  },
  {
   "cell_type": "code",
   "execution_count": 134,
   "id": "84714420",
   "metadata": {},
   "outputs": [],
   "source": [
    "y_nb=NB.predict(x_test)"
   ]
  },
  {
   "cell_type": "code",
   "execution_count": 135,
   "id": "adff5edc",
   "metadata": {},
   "outputs": [
    {
     "data": {
      "text/plain": [
       "0.5725"
      ]
     },
     "execution_count": 135,
     "metadata": {},
     "output_type": "execute_result"
    }
   ],
   "source": [
    "# Checking accuracy\n",
    "\n",
    "accuracyScore = accuracy_score(y_test,y_nb)\n",
    "accuracyScore"
   ]
  },
  {
   "cell_type": "code",
   "execution_count": 136,
   "id": "099c5ed0",
   "metadata": {},
   "outputs": [
    {
     "name": "stdout",
     "output_type": "stream",
     "text": [
      "              precision    recall  f1-score   support\n",
      "\n",
      "           0       0.91      0.70      0.80       105\n",
      "           1       0.44      0.53      0.48        91\n",
      "           2       0.39      0.62      0.47        92\n",
      "           3       0.79      0.45      0.57       112\n",
      "\n",
      "    accuracy                           0.57       400\n",
      "   macro avg       0.63      0.57      0.58       400\n",
      "weighted avg       0.65      0.57      0.59       400\n",
      "\n"
     ]
    }
   ],
   "source": [
    "print(classification_report(y_test,y_nb))"
   ]
  },
  {
   "cell_type": "code",
   "execution_count": 137,
   "id": "352e226e",
   "metadata": {},
   "outputs": [
    {
     "data": {
      "text/plain": [
       "0.5878697114605285"
      ]
     },
     "execution_count": 137,
     "metadata": {},
     "output_type": "execute_result"
    }
   ],
   "source": [
    "\n",
    "## evaluating the model created\n",
    "from sklearn.metrics import f1_score\n",
    "nb_f1=f1_score(y_test,y_nb,average='weighted')\n",
    "nb_f1"
   ]
  },
  {
   "cell_type": "code",
   "execution_count": 138,
   "id": "729ed127",
   "metadata": {},
   "outputs": [
    {
     "data": {
      "text/html": [
       "<div>\n",
       "<style scoped>\n",
       "    .dataframe tbody tr th:only-of-type {\n",
       "        vertical-align: middle;\n",
       "    }\n",
       "\n",
       "    .dataframe tbody tr th {\n",
       "        vertical-align: top;\n",
       "    }\n",
       "\n",
       "    .dataframe thead th {\n",
       "        text-align: right;\n",
       "    }\n",
       "</style>\n",
       "<table border=\"1\" class=\"dataframe\">\n",
       "  <thead>\n",
       "    <tr style=\"text-align: right;\">\n",
       "      <th>col_0</th>\n",
       "      <th>0</th>\n",
       "      <th>1</th>\n",
       "      <th>2</th>\n",
       "      <th>3</th>\n",
       "    </tr>\n",
       "    <tr>\n",
       "      <th>price_range</th>\n",
       "      <th></th>\n",
       "      <th></th>\n",
       "      <th></th>\n",
       "      <th></th>\n",
       "    </tr>\n",
       "  </thead>\n",
       "  <tbody>\n",
       "    <tr>\n",
       "      <th>0</th>\n",
       "      <td>74</td>\n",
       "      <td>24</td>\n",
       "      <td>6</td>\n",
       "      <td>1</td>\n",
       "    </tr>\n",
       "    <tr>\n",
       "      <th>1</th>\n",
       "      <td>7</td>\n",
       "      <td>48</td>\n",
       "      <td>35</td>\n",
       "      <td>1</td>\n",
       "    </tr>\n",
       "    <tr>\n",
       "      <th>2</th>\n",
       "      <td>0</td>\n",
       "      <td>24</td>\n",
       "      <td>57</td>\n",
       "      <td>11</td>\n",
       "    </tr>\n",
       "    <tr>\n",
       "      <th>3</th>\n",
       "      <td>0</td>\n",
       "      <td>12</td>\n",
       "      <td>50</td>\n",
       "      <td>50</td>\n",
       "    </tr>\n",
       "  </tbody>\n",
       "</table>\n",
       "</div>"
      ],
      "text/plain": [
       "col_0         0   1   2   3\n",
       "price_range                \n",
       "0            74  24   6   1\n",
       "1             7  48  35   1\n",
       "2             0  24  57  11\n",
       "3             0  12  50  50"
      ]
     },
     "execution_count": 138,
     "metadata": {},
     "output_type": "execute_result"
    }
   ],
   "source": [
    "from sklearn.metrics import confusion_matrix\n",
    "pd.crosstab(y_test,y_nb)"
   ]
  },
  {
   "cell_type": "markdown",
   "id": "0466c889",
   "metadata": {},
   "source": [
    "## Hyper parameter tuning of Naive Bayes"
   ]
  },
  {
   "cell_type": "code",
   "execution_count": 139,
   "id": "335c4f65",
   "metadata": {},
   "outputs": [],
   "source": [
    "\n",
    "param_nb={'alpha': [0.00001, 0.0001, 0.001, 0.1, 1, 10, 100,1000]}\n",
    "    \n",
    "grid_nb=GridSearchCV(NB,param_grid=param_nb,scoring='f1',cv=10,return_train_score=True)  \n",
    "    "
   ]
  },
  {
   "cell_type": "code",
   "execution_count": 140,
   "id": "9027b1e3",
   "metadata": {},
   "outputs": [
    {
     "data": {
      "text/plain": [
       "GridSearchCV(cv=10, estimator=MultinomialNB(),\n",
       "             param_grid={'alpha': [1e-05, 0.0001, 0.001, 0.1, 1, 10, 100,\n",
       "                                   1000]},\n",
       "             return_train_score=True, scoring='f1')"
      ]
     },
     "execution_count": 140,
     "metadata": {},
     "output_type": "execute_result"
    }
   ],
   "source": [
    "grid_nb.fit(x_train,y_train)"
   ]
  },
  {
   "cell_type": "code",
   "execution_count": 141,
   "id": "d86155a9",
   "metadata": {},
   "outputs": [
    {
     "data": {
      "text/plain": [
       "{'alpha': 1e-05}"
      ]
     },
     "execution_count": 141,
     "metadata": {},
     "output_type": "execute_result"
    }
   ],
   "source": [
    "grid_nb.best_params_"
   ]
  },
  {
   "cell_type": "code",
   "execution_count": 142,
   "id": "ae03da09",
   "metadata": {},
   "outputs": [
    {
     "data": {
      "text/plain": [
       "MultinomialNB(alpha=1e-05)"
      ]
     },
     "execution_count": 142,
     "metadata": {},
     "output_type": "execute_result"
    }
   ],
   "source": [
    "grid_nb.best_estimator_"
   ]
  },
  {
   "cell_type": "code",
   "execution_count": 143,
   "id": "477e4a32",
   "metadata": {},
   "outputs": [],
   "source": [
    "## Applying best parameter \n",
    "MNB=MultinomialNB(alpha=1e-05)"
   ]
  },
  {
   "cell_type": "code",
   "execution_count": 144,
   "id": "804cfd5d",
   "metadata": {},
   "outputs": [
    {
     "data": {
      "text/plain": [
       "MultinomialNB(alpha=1e-05)"
      ]
     },
     "execution_count": 144,
     "metadata": {},
     "output_type": "execute_result"
    }
   ],
   "source": [
    "MNB.fit(x_train,y_train)"
   ]
  },
  {
   "cell_type": "code",
   "execution_count": 145,
   "id": "6dc15fe7",
   "metadata": {},
   "outputs": [],
   "source": [
    "y_MNB=MNB.predict(x_test)"
   ]
  },
  {
   "cell_type": "code",
   "execution_count": 146,
   "id": "31ce4c4e",
   "metadata": {},
   "outputs": [
    {
     "name": "stdout",
     "output_type": "stream",
     "text": [
      "              precision    recall  f1-score   support\n",
      "\n",
      "           0       0.91      0.70      0.80       105\n",
      "           1       0.44      0.53      0.48        91\n",
      "           2       0.39      0.62      0.47        92\n",
      "           3       0.79      0.45      0.57       112\n",
      "\n",
      "    accuracy                           0.57       400\n",
      "   macro avg       0.63      0.57      0.58       400\n",
      "weighted avg       0.65      0.57      0.59       400\n",
      "\n"
     ]
    }
   ],
   "source": [
    "print(classification_report(y_test,y_MNB))"
   ]
  },
  {
   "cell_type": "code",
   "execution_count": 147,
   "id": "8599ddfc",
   "metadata": {},
   "outputs": [
    {
     "data": {
      "text/html": [
       "<div>\n",
       "<style scoped>\n",
       "    .dataframe tbody tr th:only-of-type {\n",
       "        vertical-align: middle;\n",
       "    }\n",
       "\n",
       "    .dataframe tbody tr th {\n",
       "        vertical-align: top;\n",
       "    }\n",
       "\n",
       "    .dataframe thead th {\n",
       "        text-align: right;\n",
       "    }\n",
       "</style>\n",
       "<table border=\"1\" class=\"dataframe\">\n",
       "  <thead>\n",
       "    <tr style=\"text-align: right;\">\n",
       "      <th>col_0</th>\n",
       "      <th>0</th>\n",
       "      <th>1</th>\n",
       "      <th>2</th>\n",
       "      <th>3</th>\n",
       "    </tr>\n",
       "    <tr>\n",
       "      <th>price_range</th>\n",
       "      <th></th>\n",
       "      <th></th>\n",
       "      <th></th>\n",
       "      <th></th>\n",
       "    </tr>\n",
       "  </thead>\n",
       "  <tbody>\n",
       "    <tr>\n",
       "      <th>0</th>\n",
       "      <td>74</td>\n",
       "      <td>24</td>\n",
       "      <td>6</td>\n",
       "      <td>1</td>\n",
       "    </tr>\n",
       "    <tr>\n",
       "      <th>1</th>\n",
       "      <td>7</td>\n",
       "      <td>48</td>\n",
       "      <td>35</td>\n",
       "      <td>1</td>\n",
       "    </tr>\n",
       "    <tr>\n",
       "      <th>2</th>\n",
       "      <td>0</td>\n",
       "      <td>24</td>\n",
       "      <td>57</td>\n",
       "      <td>11</td>\n",
       "    </tr>\n",
       "    <tr>\n",
       "      <th>3</th>\n",
       "      <td>0</td>\n",
       "      <td>12</td>\n",
       "      <td>50</td>\n",
       "      <td>50</td>\n",
       "    </tr>\n",
       "  </tbody>\n",
       "</table>\n",
       "</div>"
      ],
      "text/plain": [
       "col_0         0   1   2   3\n",
       "price_range                \n",
       "0            74  24   6   1\n",
       "1             7  48  35   1\n",
       "2             0  24  57  11\n",
       "3             0  12  50  50"
      ]
     },
     "execution_count": 147,
     "metadata": {},
     "output_type": "execute_result"
    }
   ],
   "source": [
    "cm=pd.crosstab(y_test,y_MNB)\n",
    "cm"
   ]
  },
  {
   "cell_type": "code",
   "execution_count": 148,
   "id": "17e295c5",
   "metadata": {},
   "outputs": [
    {
     "data": {
      "text/plain": [
       "0.5878697114605285"
      ]
     },
     "execution_count": 148,
     "metadata": {},
     "output_type": "execute_result"
    }
   ],
   "source": [
    "f1=f1_score(y_test,y_MNB,average='weighted')\n",
    "f1"
   ]
  },
  {
   "cell_type": "markdown",
   "id": "c9122016",
   "metadata": {},
   "source": [
    "### There is not much change in f1 score after tuning to naive bayes algorithm "
   ]
  },
  {
   "cell_type": "code",
   "execution_count": 153,
   "id": "793a3041",
   "metadata": {},
   "outputs": [
    {
     "name": "stdout",
     "output_type": "stream",
     "text": [
      "  Sr_No  ML_Algorithm      Accuracy_before_HypT    Accuracy_after_HypT\n",
      "-------  --------------  ----------------------  ---------------------\n",
      "      1  SVC                               0.85                   0.95\n",
      "      2  Decision Tree                     0.81                   0.85\n",
      "      3  Logistic Reg                      0.85                   0.98\n",
      "      4  KNN Classifier                    0.47                   0.55\n",
      "      5  Random Forest                     0.88                   0.89\n",
      "      6  XGBoost                           0.91                   0.89\n",
      "      7  Naive Bayes                       0.58                   0.59\n"
     ]
    }
   ],
   "source": [
    "from tabulate import tabulate\n",
    "\n",
    "D=[[1,\"SVC\",0.85,0.95],\n",
    "   [2,\"Decision Tree\", 0.81, 0.85],\n",
    "   [3,\"Logistic Reg\", 0.85 , 0.98],\n",
    "   [4,\"KNN Classifier\", 0.47,0.55],\n",
    "   [5,\"Random Forest\", 0.88, 0.89],\n",
    "   [6,\"XGBoost\", 0.91,0.89],\n",
    "   [7,\"Naive Bayes\", 0.58, 0.59]]\n",
    "\n",
    "print (tabulate(D, headers=['Sr_No','ML_Algorithm','Accuracy_before_HypT','Accuracy_after_HypT']))"
   ]
  },
  {
   "cell_type": "markdown",
   "id": "d2620e08",
   "metadata": {},
   "source": [
    "## After applying all the machine learning algorithms and after hyper tuning it, it seen that the best performance is given by :\n",
    "## Logistic Regression model with 98% accuracy followed by SVC with 95% accuracy."
   ]
  },
  {
   "cell_type": "code",
   "execution_count": null,
   "id": "3e8aaf65",
   "metadata": {},
   "outputs": [],
   "source": []
  }
 ],
 "metadata": {
  "kernelspec": {
   "display_name": "Python 3 (ipykernel)",
   "language": "python",
   "name": "python3"
  },
  "language_info": {
   "codemirror_mode": {
    "name": "ipython",
    "version": 3
   },
   "file_extension": ".py",
   "mimetype": "text/x-python",
   "name": "python",
   "nbconvert_exporter": "python",
   "pygments_lexer": "ipython3",
   "version": "3.9.12"
  }
 },
 "nbformat": 4,
 "nbformat_minor": 5
}
